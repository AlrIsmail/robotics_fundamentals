{
 "cells": [
  {
   "cell_type": "markdown",
   "metadata": {},
   "source": [
    "# Stereo Vision\n",
    "\n",
    "In this notebook, the focus shifts from understanding epipolar geometry to recovering 3D scene information from multiple 2D images. One fundamental problem in multiple view geometry is **triangulation**, which involves determining the 3D location of a point by analyzing its projections in two or more images.\n",
    "\n",
    "## Triangulation\n",
    "**Triangulation Problem with Two Views:**\n",
    "1. Two cameras with known intrinsic parameters `K` and `K'` are considered.\n",
    "2. The relative orientation and translation between these cameras are known, denoted as `R` and `T`.\n",
    "3. A 3D point `P` exists but is unknown, projected onto two images as `p` and `p'`.\n",
    "4. By knowing `K`, `K'`, `R`, and `T`, we can calculate the lines of sight `l` and `l'` from the camera centers `O1` and `O2` to the image locations `p` and `p'`. The 3D point `P` is the intersection of these lines.\n",
    "\n",
    "**Challenges in Triangulation:**\n",
    "In practice, triangulation is more challenging due to several factors:\n",
    "- The observed points `p` and `p'` are subject to noise.\n",
    "- Camera calibration parameters might not be precise.\n",
    "- The intersection of lines of sight may not exist due to noisy measurements.\n",
    "\n",
    "**Linear Triangulation Method:**\n",
    "To address the issues above, a simple linear triangulation method is used. Given two points `p` and `p'` corresponding to a 3D point `P`, we create three constraints for each point. These constraints result in a linear equation of the form `AP = 0`, where `A` is a matrix formed from the constraints. Solving this equation using Singular Value Decomposition (SVD) provides an estimate of the 3D point `P`.\n",
    "\n",
    "**Nonlinear Triangulation:**\n",
    "The linear method has limitations, particularly for projective reconstruction. In real-world scenarios, we often aim to minimize the reprojection error. This leads to a nonlinear minimization problem where we seek `P` that minimizes the sum of squared reprojection errors in all images:\n",
    "\n",
    "```\n",
    "min ∑ (∥MPˆ - p∥²)\n",
    " Pˆ\n",
    "```\n",
    "\n",
    "Solving this nonlinear least squares problem involves methods like the Gauss-Newton algorithm. This algorithm iteratively updates an estimate `Pˆ` by linearizing the residual error and finding the best correction to minimize the reprojection error.\n",
    "\n",
    "**Handling Multiple Views:**\n",
    "This approach naturally extends to multiple views. The linear least squares solution is augmented with the corresponding rows in the `e` vector and `J` matrix for each image, where `e` is the residual vector and `J` is the Jacobian matrix.\n",
    "\n",
    "The Gauss-Newton algorithm is one way to iteratively refine the 3D point estimate. It repeats the linearization and correction steps for a fixed number of iterations or until convergence, with a limit on the number of updates to ensure practicality.\n",
    "\n",
    "While the linear method is suitable for some cases, the nonlinear approach, especially with optimization algorithms like Gauss-Newton, offers more accurate results and handles multiple views effectively."
   ]
  },
  {
   "cell_type": "markdown",
   "metadata": {},
   "source": [
    "## **Affine Structure from Motion**\n",
    "\n",
    "In this section, we dive into the concept of **structure from motion** (SfM), which is the process of simultaneously determining the 3D structure of a scene and the parameters of the cameras capturing that scene. The main goal is to recover both the camera transformation matrices (`Mi`) and the 3D points in the scene (`Xj`) from observations (`xij`) in multiple views.\n",
    "\n",
    "**Affine Structure from Motion Problem:**\n",
    "Before addressing the general SfM problem, we begin with a simpler version assuming affine or weak perspective cameras. In this case, the perspective scaling operation is not present, making mathematical derivations easier.\n",
    "\n",
    "**Affine Camera Model:**\n",
    "For the weak perspective model, the camera matrix `M` simplifies to a form where `v = 0`, which results in the homogeneous coordinate of `MX` being 1. This simplification allows us to express the projection as `AX + b`, where `A` is a 2x3 matrix, and `b` is a 2x1 vector.\n",
    "\n",
    "**Data Centering Step:**\n",
    "In the factorization method for affine SfM, we start with a data centering step. We redefine new coordinates `xˆij` for each image point `xij` by subtracting their centroid `x ̄i`:\n",
    "```\n",
    "xˆij = xij - x ̄i\n",
    "```\n",
    "This step centers the data at the origin in the image plane.\n",
    "\n",
    "**Factorization Method:**\n",
    "The key idea in factorization is to factorize the measurement matrix `D`, which comprises the centered observations, into two matrices: the motion matrix `M` (comprising camera matrices `A` and `b`) and the structure matrix `S` (comprising 3D points `Xj`). This factorization allows us to relate the 3D structure with their observed points compactly.\n",
    "\n",
    "**Singular Value Decomposition (SVD):**\n",
    "The factorization relies on SVD of the measurement matrix `D = UΣVT`. We use the three non-zero singular values from `Σ` to factorize `D` into `U3Σ3V3T`.\n",
    "\n",
    "**Ambiguities in Reconstruction:**\n",
    "A crucial point in SfM is that there is inherent ambiguity in any choice of the factorization `D = MS`. Specifically, any arbitrary, invertible 3x3 matrix `A` can be inserted into the decomposition, which leads to a multiplication of `M` and `S` by the same matrix `A`. This means the solution is underdetermined and requires extra constraints to resolve this affine ambiguity.\n",
    "\n",
    "**Similarity Ambiguity:**\n",
    "Another type of ambiguity in reconstruction is similarity ambiguity, where the reconstruction is correct up to a similarity transform (rotation, translation, and scaling). Calibrated cameras have only similarity ambiguity, meaning the absolute scale of the scene cannot be recovered from images.\n",
    "\n",
    "In summary, SfM involves recovering both camera transformations and 3D scene points from image observations. In the affine SfM problem, we simplify the camera model, center the data, and use factorization methods. However, ambiguities exist in reconstruction, which may require additional constraints or information to resolve."
   ]
  },
  {
   "cell_type": "code",
   "execution_count": null,
   "metadata": {
    "vscode": {
     "languageId": "plaintext"
    }
   },
   "outputs": [],
   "source": []
  }
 ],
 "metadata": {
  "language_info": {
   "name": "python"
  },
  "orig_nbformat": 4
 },
 "nbformat": 4,
 "nbformat_minor": 2
}
