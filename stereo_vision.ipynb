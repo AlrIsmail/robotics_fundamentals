{
 "cells": [
  {
   "cell_type": "markdown",
   "metadata": {},
   "source": [
    "# Stereo Vision\n",
    "\n",
    "In this notebook, the focus shifts from understanding epipolar geometry to recovering 3D scene information from multiple 2D images. One fundamental problem in multiple view geometry is **triangulation**, which involves determining the 3D location of a point by analyzing its projections in two or more images.\n",
    "\n",
    "## Triangulation\n",
    "**Triangulation Problem with Two Views:**\n",
    "1. Two cameras with known intrinsic parameters `K` and `K'` are considered.\n",
    "2. The relative orientation and translation between these cameras are known, denoted as `R` and `T`.\n",
    "3. A 3D point `P` exists but is unknown, projected onto two images as `p` and `p'`.\n",
    "4. By knowing `K`, `K'`, `R`, and `T`, we can calculate the lines of sight `l` and `l'` from the camera centers `O1` and `O2` to the image locations `p` and `p'`. The 3D point `P` is the intersection of these lines.\n",
    "\n",
    "**Challenges in Triangulation:**\n",
    "In practice, triangulation is more challenging due to several factors:\n",
    "- The observed points `p` and `p'` are subject to noise.\n",
    "- Camera calibration parameters might not be precise.\n",
    "- The intersection of lines of sight may not exist due to noisy measurements.\n",
    "\n",
    "**Linear Triangulation Method:**\n",
    "To address the issues above, a simple linear triangulation method is used. Given two points `p` and `p'` corresponding to a 3D point `P`, we create three constraints for each point. These constraints result in a linear equation of the form `AP = 0`, where `A` is a matrix formed from the constraints. Solving this equation using Singular Value Decomposition (SVD) provides an estimate of the 3D point `P`.\n",
    "\n",
    "**Nonlinear Triangulation:**\n",
    "The linear method has limitations, particularly for projective reconstruction. In real-world scenarios, we often aim to minimize the reprojection error. This leads to a nonlinear minimization problem where we seek `P` that minimizes the sum of squared reprojection errors in all images:\n",
    "\n",
    "```\n",
    "min ∑ (∥MPˆ - p∥²)\n",
    " Pˆ\n",
    "```\n",
    "\n",
    "Solving this nonlinear least squares problem involves methods like the Gauss-Newton algorithm. This algorithm iteratively updates an estimate `Pˆ` by linearizing the residual error and finding the best correction to minimize the reprojection error.\n",
    "\n",
    "**Handling Multiple Views:**\n",
    "This approach naturally extends to multiple views. The linear least squares solution is augmented with the corresponding rows in the `e` vector and `J` matrix for each image, where `e` is the residual vector and `J` is the Jacobian matrix.\n",
    "\n",
    "The Gauss-Newton algorithm is one way to iteratively refine the 3D point estimate. It repeats the linearization and correction steps for a fixed number of iterations or until convergence, with a limit on the number of updates to ensure practicality.\n",
    "\n",
    "While the linear method is suitable for some cases, the nonlinear approach, especially with optimization algorithms like Gauss-Newton, offers more accurate results and handles multiple views effectively."
   ]
  },
  {
   "cell_type": "markdown",
   "metadata": {},
   "source": []
  }
 ],
 "metadata": {
  "language_info": {
   "name": "python"
  },
  "orig_nbformat": 4
 },
 "nbformat": 4,
 "nbformat_minor": 2
}
