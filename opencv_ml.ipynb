{
 "cells": [
  {
   "cell_type": "markdown",
   "metadata": {},
   "source": [
    "# Opencv Machine Learning\n",
    "\n",
    "## KNN\n",
    "\n",
    "### Understanding KNN\n",
    "KNN is one of the simplest of classification algorithms available for supervised learning. The idea is to search for closest match of the test data in feature space. The closest match is found by calculating the distance between the test data and each training data. The distance can be Euclidean, Manhattan, Minkowski or Hamming distance. The most popular one is Euclidean distance. The distance is calculated as follows:\n",
    "\n",
    "$$d(x,y) = \\sqrt{\\sum_{i=1}^{n}(x_i-y_i)^2}$$\n",
    "\n",
    "where $x$ and $y$ are two feature vectors and $n$ is the number of features.\n",
    "\n",
    "To explain it more clearly, let's take an example. Suppose we have a dataset of fruits with two features: weight and color. The weight is in grams and color is encoded as 0 for red and 1 for yellow. The dataset is as follows:\n",
    "\n",
    "| Weight (grams) | Color |\n",
    "|----------------|-------|\n",
    "| 150            | 0     |\n",
    "| 170            | 0     |\n",
    "| 140            | 0     |\n",
    "| 130            | 1     |\n",
    "| 180            | 1     |\n",
    "| 160            | 1     |\n",
    "\n",
    "Now, we want to classify a fruit with weight 145 grams and color 0. We will calculate the distance of this fruit from each of the fruits in the dataset. The distance is calculated as follows:\n",
    "\n",
    "| Weight (grams) | Color | Distance |\n",
    "|----------------|-------|----------|\n",
    "| 150            | 0     | 5        |\n",
    "| 170            | 0     | 25       |\n",
    "| 140            | 0     | 5        |\n",
    "| 130            | 1     | 15       |\n",
    "| 180            | 1     | 35       |\n",
    "| 160            | 1     | 15       |\n",
    "\n",
    "Now, we will sort the distances in ascending order and select the top k distances. Suppose we select k = 3. The top 3 distances are 5, 5 and 15. Now, we will check the labels of the corresponding fruits. The first two fruits have label 0 and the third fruit has label 1. We will select the label which is most frequent in the top k distances. In this case, the label 0 is most frequent. So, we will classify the fruit as red.\n",
    "\n",
    "### KNN in OpenCV\n",
    "We will do a simple example to demonstrate KNN, with two families (classes), just like the example above.\n",
    "\n",
    "So here, we label the Red family as Class-0 and Yellow family as Class-1. We generate 25 neighbours or 25 training data, and label them either Class-0 or Class-1. We can do this with the help of numpy.random.randint(). Then we plot them with matplotlib. The result looks like this:\n",
    "\n"
   ]
  },
  {
   "cell_type": "code",
   "execution_count": 2,
   "metadata": {},
   "outputs": [
    {
     "data": {
      "image/png": "[encoded data removed]",
      "text/plain": [
       "<Figure size 640x480 with 1 Axes>"
      ]
     },
     "metadata": {},
     "output_type": "display_data"
    }
   ],
   "source": [
    "import cv2 as cv\n",
    "import numpy as np\n",
    "import matplotlib.pyplot as plt\n",
    "\n",
    "# Feature set containing (x,y) values of 25 known/training data\n",
    "trainData = np.random.randint(0, 100, (25, 2)).astype(np.float32)\n",
    "\n",
    "# Labels each one either Red or Blue with numbers 0 and 1\n",
    "responses = np.random.randint(0, 2, (25, 1)).astype(np.float32)\n",
    "\n",
    "# Take Red families and plot them\n",
    "red = trainData[responses.ravel() == 0]\n",
    "plt.scatter(red[:, 0], red[:, 1], 80, 'r', '^')\n",
    "\n",
    "# Take Blue families and plot them\n",
    "blue = trainData[responses.ravel() == 1]\n",
    "plt.scatter(blue[:, 0], blue[:, 1], 80, 'b', 's')\n",
    "\n",
    "plt.show()"
   ]
  },
  {
   "cell_type": "markdown",
   "metadata": {},
   "source": [
    "Since we are using number generator, we will get different result everytime we run the code. \n",
    "\n",
    "Next initiate the kNN algorithm and pass the trainData and responses to train the kNN. (Underneath the hood, it constructs a search tree: see the Additional Resources section below for more information on this.)\n",
    "\n",
    "Then we will bring one new-comer and classify him as belonging to a family with the help of kNN in OpenCV. Before running kNN, we need to know something about our test data (data of new comers). Our data should be a floating point array with size numberoftestdata×numberoffeatures. Then we find the nearest neighbours of the new-comer. We can specify k: how many neighbours we want. (Here we used 3.) It returns:\n",
    "\n",
    "- The label given to the new-comer depending upon the kNN theory we saw earlier. If you want the Nearest Neighbour algorithm, just specify k=1.\n",
    "- The labels of the k-Nearest Neighbours.  \n",
    "- The corresponding distances from the new-comer to each nearest neighbour.  \n",
    " \n",
    "So let's see how it works. The new-comer is marked in green."
   ]
  },
  {
   "cell_type": "code",
   "execution_count": 4,
   "metadata": {},
   "outputs": [
    {
     "name": "stdout",
     "output_type": "stream",
     "text": [
      "result:  [[1.]]\n",
      "neighbours:  [[1. 1. 1.]]\n",
      "distance:  [[ 80.  85. 173.]]\n"
     ]
    },
    {
     "data": {
      "image/png": "[encoded data removed]",
      "text/plain": [
       "<Figure size 640x480 with 1 Axes>"
      ]
     },
     "metadata": {},
     "output_type": "display_data"
    }
   ],
   "source": [
    "newcomer = np.random.randint(0, 100, (1, 2)).astype(np.float32)\n",
    "plt.scatter(red[:, 0], red[:, 1], 80, 'r', '^')\n",
    "plt.scatter(blue[:, 0], blue[:, 1], 80, 'b', 's')\n",
    "plt.scatter(newcomer[:, 0], newcomer[:, 1], 80, 'g', 'o')\n",
    "\n",
    "knn = cv.ml.KNearest_create()\n",
    "knn.train(trainData, cv.ml.ROW_SAMPLE, responses)\n",
    "ret, results, neighbours, dist = knn.findNearest(newcomer, 3)\n",
    "\n",
    "print(\"result: \", results)\n",
    "print(\"neighbours: \", neighbours)\n",
    "print(\"distance: \", dist)\n",
    "\n",
    "plt.show()"
   ]
  },
  {
   "cell_type": "markdown",
   "metadata": {},
   "source": [
    "The result I got is:\n",
    "\n",
    "```\n",
    "result:  [[1.]]\n",
    "neighbours:  [[1. 1. 1.]]\n",
    "distance:  [[ 80.  85. 173.]]\n",
    "\n",
    "```\n",
    "\n",
    "It says the new-comer belongs to Class-1. It also lists the labels of the three nearest neighbours and their distances to the new-comer.\n",
    "\n",
    "If you have multipile new-comers (test data), you can just pass them as an array. The result will be a corresponding array of results."
   ]
  },
  {
   "cell_type": "code",
   "execution_count": 6,
   "metadata": {},
   "outputs": [
    {
     "name": "stdout",
     "output_type": "stream",
     "text": [
      "result:  [[0.]\n",
      " [1.]\n",
      " [1.]\n",
      " [1.]\n",
      " [1.]\n",
      " [0.]\n",
      " [0.]\n",
      " [1.]\n",
      " [0.]\n",
      " [0.]]\n",
      "neighbours:  [[0. 1. 0.]\n",
      " [1. 1. 0.]\n",
      " [1. 0. 1.]\n",
      " [1. 1. 1.]\n",
      " [1. 0. 1.]\n",
      " [0. 0. 1.]\n",
      " [1. 0. 0.]\n",
      " [1. 1. 1.]\n",
      " [1. 0. 0.]\n",
      " [0. 1. 0.]]\n",
      "distance:  [[1.160e+02 1.930e+02 3.880e+02]\n",
      " [4.000e+00 1.700e+01 1.970e+02]\n",
      " [1.300e+02 3.460e+02 4.420e+02]\n",
      " [1.277e+03 1.417e+03 1.460e+03]\n",
      " [2.320e+02 4.450e+02 5.200e+02]\n",
      " [1.000e+01 8.500e+01 1.850e+02]\n",
      " [1.300e+01 6.500e+01 3.240e+02]\n",
      " [1.040e+03 1.417e+03 1.780e+03]\n",
      " [1.690e+02 2.290e+02 2.900e+02]\n",
      " [1.000e+00 3.370e+02 3.560e+02]]\n"
     ]
    }
   ],
   "source": [
    "# 10 new comers\n",
    "newcomers = np.random.randint(0, 100, (10, 2)).astype(np.float32)\n",
    "ret, results, neighbours, dist = knn.findNearest(newcomers, 3)\n",
    "\n",
    "print(\"result: \", results)\n",
    "print(\"neighbours: \", neighbours)\n",
    "print(\"distance: \", dist)"
   ]
  },
  {
   "cell_type": "code",
   "execution_count": 10,
   "metadata": {},
   "outputs": [
    {
     "name": "stdout",
     "output_type": "stream",
     "text": [
      "result:  [[2.]]\n",
      "neighbours:  [[2. 2. 3. 3. 2. 3.]]\n",
      "distance:  [[  2.  26. 106. 157. 170. 205.]]\n"
     ]
    },
    {
     "data": {
      "image/png": "[encoded data removed]",
      "text/plain": [
       "<Figure size 640x480 with 1 Axes>"
      ]
     },
     "metadata": {},
     "output_type": "display_data"
    }
   ],
   "source": [
    "# Feature set containing (x,y) values of 100 known/training data\n",
    "trainData = np.random.randint(0, 100, (100, 2)).astype(np.float32)\n",
    "\n",
    "# Labels each one either Red or Blue or Green or Yellow with numbers 0, 1, 2, 3\n",
    "responses = np.random.randint(0, 4, (100, 1)).astype(np.float32)\n",
    "\n",
    "# Take Red families and plot them\n",
    "red = trainData[responses.ravel() == 0]\n",
    "plt.scatter(red[:, 0], red[:, 1], 80, 'r', '^')\n",
    "\n",
    "# Take Blue families and plot them\n",
    "blue = trainData[responses.ravel() == 1]\n",
    "plt.scatter(blue[:, 0], blue[:, 1], 80, 'b', 's')\n",
    "\n",
    "# Take Green families and plot them\n",
    "green = trainData[responses.ravel() == 2]\n",
    "plt.scatter(green[:, 0], green[:, 1], 80, 'g', 'o')\n",
    "\n",
    "# Take Yellow families and plot them\n",
    "yellow = trainData[responses.ravel() == 3]\n",
    "plt.scatter(yellow[:, 0], yellow[:, 1], 80, 'y', 'p')\n",
    "\n",
    "\n",
    "newcomer = np.random.randint(0, 100, (1, 2)).astype(np.float32)\n",
    "plt.scatter(newcomer[:, 0], newcomer[:, 1], 80, 'k', '*')\n",
    "\n",
    "knn = cv.ml.KNearest_create()\n",
    "knn.train(trainData, cv.ml.ROW_SAMPLE, responses)\n",
    "ret, results, neighbours, dist = knn.findNearest(newcomer, 6)\n",
    "\n",
    "print(\"result: \", results)\n",
    "print(\"neighbours: \", neighbours)\n",
    "print(\"distance: \", dist)\n",
    "\n",
    "plt.show()"
   ]
  },
  {
   "cell_type": "markdown",
   "metadata": {},
   "source": [
    "## OCR of Hand-written Data using kNN\n",
    "\n",
    "### Goal\n",
    "\n",
    "In this section, we will build a basic OCR application for handwritten digits from scratch. The goal of this application is to take hand-written digits as input, process the digits, train the digits using kNN algorithm and then give the output.\n",
    "\n",
    "### OCR of Hand-written Digit\n",
    "\n",
    "Our goal is to build an application which can read handwritten digits. For example, if you write a digit on paper, our application should tell you which digit you have written. For this, we need some data to train our classifier. OpenCV comes with an image digits.png (in the folder opencv/samples/data/) which has 5000 handwritten digits (500 for each digit). Each digit is a 20x20 image. So our first step is to split this image into 5000 different digits. For each digit, we flatten it into a single row with 400 pixels. That is our feature set, ie intensity values of all pixels. It is a simple feature set we can create. We use the first 250 samples of each digit as training samples and the remaining 250 samples as test samples. So let's prepare them first."
   ]
  },
  {
   "cell_type": "code",
   "execution_count": 11,
   "metadata": {},
   "outputs": [
    {
     "name": "stdout",
     "output_type": "stream",
     "text": [
      "91.76\n"
     ]
    }
   ],
   "source": [
    "import cv2 as cv\n",
    "import numpy as np\n",
    "\n",
    "img = cv.imread('data/digits.png')\n",
    "gray = cv.cvtColor(img, cv.COLOR_BGR2GRAY)\n",
    "\n",
    "# Now we split the image to 5000 cells, each 20x20 size\n",
    "cells = [np.hsplit(row, 100) for row in np.vsplit(gray, 50)]\n",
    "\n",
    "# Make it into a Numpy array. It size will be (50,100,20,20)\n",
    "x = np.array(cells)\n",
    "\n",
    "# Now we prepare train_data and test_data.\n",
    "train = x[:, :50].reshape(-1, 400).astype(np.float32)  # Size = (2500,400)\n",
    "test = x[:, 50:100].reshape(-1, 400).astype(np.float32)  # Size = (2500,400)\n",
    "\n",
    "# Create labels for train and test data\n",
    "k = np.arange(10)\n",
    "train_labels = np.repeat(k, 250)[:, np.newaxis]\n",
    "test_labels = train_labels.copy()\n",
    "\n",
    "# Initiate kNN, train the data, then test it with test data for k=1\n",
    "knn = cv.ml.KNearest_create()\n",
    "knn.train(train, cv.ml.ROW_SAMPLE, train_labels)\n",
    "ret, result, neighbours, dist = knn.findNearest(test, k=5)\n",
    "\n",
    "# Now we check the accuracy of classification\n",
    "# For that, compare the result with test_labels and check which are wrong\n",
    "matches = result == test_labels\n",
    "correct = np.count_nonzero(matches)\n",
    "accuracy = correct * 100.0 / result.size\n",
    "print(accuracy)"
   ]
  },
  {
   "cell_type": "markdown",
   "metadata": {},
   "source": [
    "So our basic OCR app is ready. This particular example gave me an accuracy of 91%. One option to improve accuracy is to increase number of training data. "
   ]
  },
  {
   "cell_type": "code",
   "execution_count": 12,
   "metadata": {},
   "outputs": [
    {
     "name": "stdout",
     "output_type": "stream",
     "text": [
      "['train', 'train_labels']\n"
     ]
    }
   ],
   "source": [
    "# Save the data\n",
    "np.savez('data/knn_data.npz', train=train, train_labels=train_labels)\n",
    "\n",
    "# Now load the data\n",
    "with np.load('data/knn_data.npz') as data:\n",
    "    print(data.files)\n",
    "    train = data['train']\n",
    "    train_labels = data['train_labels']"
   ]
  },
  {
   "cell_type": "markdown",
   "metadata": {},
   "source": [
    "### OCR of English Alphabets\n",
    "\n",
    "Next we will do the same for the English alphabet, but there is a slight change in data and feature set. Here, instead of images, OpenCV comes with a data file, letter-recognition.data in opencv/samples/cpp/ folder. If you open it, you will see 20000 lines which may, on first sight, look like garbage. Actually, in each row, the first column is a letter which is our label. The next 16 numbers following it are the different features. These features are obtained from the UCI Machine Learning Repository."
   ]
  },
  {
   "cell_type": "code",
   "execution_count": 13,
   "metadata": {},
   "outputs": [
    {
     "name": "stdout",
     "output_type": "stream",
     "text": [
      "93.06\n"
     ]
    }
   ],
   "source": [
    "import cv2 as cv\n",
    "import numpy as np\n",
    "\n",
    "# Load the data and conevert the letters to numbers\n",
    "data = np.loadtxt('data/letter-recognition.data', dtype='float32', delimiter=',',\n",
    "                  converters={0: lambda ch: ord(ch) - ord('A')})\n",
    "\n",
    "# Split the data to two, 10000 each for train and test\n",
    "train, test = np.vsplit(data, 2)\n",
    "\n",
    "# Split trainData and testData to features and responses\n",
    "responses, trainData = np.hsplit(train, [1])\n",
    "labels, testData = np.hsplit(test, [1])\n",
    "\n",
    "# Initiate the kNN, classify, measure accuracy.\n",
    "knn = cv.ml.KNearest_create()\n",
    "knn.train(trainData, cv.ml.ROW_SAMPLE, responses)\n",
    "ret, result, neighbours, dist = knn.findNearest(testData, k=5)\n",
    "\n",
    "correct = np.count_nonzero(result == labels)\n",
    "accuracy = correct * 100.0 / 10000\n",
    "print(accuracy)"
   ]
  },
  {
   "cell_type": "markdown",
   "metadata": {},
   "source": [
    "It gives me an accuracy of 93%. Again, if you want to increase accuracy, you have to increase the number of training data."
   ]
  },
  {
   "cell_type": "code",
   "execution_count": 16,
   "metadata": {},
   "outputs": [
    {
     "name": "stdout",
     "output_type": "stream",
     "text": [
      "Best k we found is 1, accuracy is 94.15%\n"
     ]
    }
   ],
   "source": [
    "# find the best k\n",
    "max_k = 0\n",
    "max_accuracy = 0\n",
    "\n",
    "for k in range(1, 11):\n",
    "    knn = cv.ml.KNearest_create()\n",
    "    knn.train(trainData, cv.ml.ROW_SAMPLE, responses)\n",
    "    ret, result, neighbours, dist = knn.findNearest(testData, k=k)\n",
    "\n",
    "    correct = np.count_nonzero(result == labels)\n",
    "    accuracy = correct * 100.0 / 10000\n",
    "\n",
    "    if accuracy > max_accuracy:\n",
    "        max_accuracy = accuracy\n",
    "        max_k = k\n",
    "\n",
    "print(\"Best k we found is %d, accuracy is %.2f%%\" % (max_k, max_accuracy))\n"
   ]
  },
  {
   "cell_type": "markdown",
   "metadata": {},
   "source": [
    "## SVM\n",
    "\n",
    "### Understanding SVM\n",
    "\n",
    "#### What is SVM?\n",
    "\n",
    "SVM is a machine learning algorithm which is used for classification. But it can also be used for regression. The basic idea behind SVM is to find a hyperplane in N-dimensional space (N — the number of features) that distinctly classifies the data points.\n",
    "\n",
    "#### What is a hyperplane?\n",
    "\n",
    "Hyperplane is a decision plane which separates between a set of objects having different class memberships.\n"
   ]
  },
  {
   "cell_type": "markdown",
   "metadata": {},
   "source": [
    "\n",
    "#### What is a good hyperplane?\n",
    "\n",
    "For a good hyperplane, we need the distance between nearest data point (either class) and hyperplane to be maximum. This distance is called as Margin. The goal is to maximize this margin. The hyperplane for which the margin is maximum is called optimal hyperplane.\n",
    "\n",
    "#### What is a Support Vector?\n",
    "\n",
    "Support Vectors are simply the co-ordinates of individual observation. Support Vector Machine is a frontier which best segregates the two classes (hyper-plane/ line).\n",
    "\n",
    "#### Linear Separable Data\n",
    "\n",
    "In image classification problems, we have a set of images which belong to one of the two classes. We need to classify them into one of the two classes. For example, we have a set of images of cats and dogs. We need to classify each image as either cat or dog. So we need to draw a decision boundary that can separate cats images from dogs images. The data is linearly separable if a hyperplane can separate the two classes.\n",
    "\n",
    "#### Non-linear Separable Data\n",
    "\n",
    "In some cases, the data is not linearly separable. In that case, we use a kernel trick to transform the data into a higher dimensional space so that it can be separated linearly. We can think of it as projecting the data into a higher dimension so that we can draw a hyperplane to separate it.\n",
    "\n"
   ]
  },
  {
   "cell_type": "code",
   "execution_count": null,
   "metadata": {},
   "outputs": [],
   "source": []
  }
 ],
 "metadata": {
  "kernelspec": {
   "display_name": "Python 3",
   "language": "python",
   "name": "python3"
  },
  "language_info": {
   "codemirror_mode": {
    "name": "ipython",
    "version": 3
   },
   "file_extension": ".py",
   "mimetype": "text/x-python",
   "name": "python",
   "nbconvert_exporter": "python",
   "pygments_lexer": "ipython3",
   "version": "3.11.4"
  }
 },
 "nbformat": 4,
 "nbformat_minor": 2
}
