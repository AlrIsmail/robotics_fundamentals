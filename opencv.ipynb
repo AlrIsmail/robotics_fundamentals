{
 "cells": [
  {
   "cell_type": "markdown",
   "metadata": {},
   "source": [
    "# OpenCV\n",
    "opencv is a library of programming functions mainly aimed at real-time computer vision. We will use it to process images and videos. OpenCV was originally developed by Intel and is now maintained by Willow Garage and ItSeez. opencv-python is the Python API of OpenCV. It combines the best qualities of OpenCV C++ API and Python language.\n",
    "\n",
    "## Installation"
   ]
  },
  {
   "cell_type": "code",
   "execution_count": 2,
   "metadata": {},
   "outputs": [
    {
     "name": "stdout",
     "output_type": "stream",
     "text": [
      "Collecting opencv-python\n",
      "  Obtaining dependency information for opencv-python from https://files.pythonhosted.org/packages/8a/6f/8aa049b66bcba8b5a4dc872ecfdbcd8603a96704b070fde22222e479c3d7/opencv_python-4.8.0.76-cp37-abi3-macosx_10_16_x86_64.whl.metadata\n",
      "  Downloading opencv_python-4.8.0.76-cp37-abi3-macosx_10_16_x86_64.whl.metadata (19 kB)\n",
      "Requirement already satisfied: numpy>=1.21.2 in /usr/local/lib/python3.11/site-packages (from opencv-python) (1.25.2)\n",
      "Downloading opencv_python-4.8.0.76-cp37-abi3-macosx_10_16_x86_64.whl (54.7 MB)\n",
      "\u001b[2K   \u001b[90m━━━━━━━━━━━━━━━━━━━━━━━━━━━━━━━━━━━━━━━━\u001b[0m \u001b[32m54.7/54.7 MB\u001b[0m \u001b[31m11.0 MB/s\u001b[0m eta \u001b[36m0:00:00\u001b[0m00:01\u001b[0m00:01\u001b[0m\n",
      "\u001b[?25hInstalling collected packages: opencv-python\n",
      "Successfully installed opencv-python-4.8.0.76\n",
      "Note: you may need to restart the kernel to use updated packages.\n"
     ]
    }
   ],
   "source": [
    "%pip install opencv-python"
   ]
  },
  {
   "cell_type": "markdown",
   "metadata": {},
   "source": [
    "## Mat - the basic image container\n",
    "### Goal\n",
    "We have multiple ways to aquire digital images from the real world: digital cameras, scanners, computed tomography, etc. In every case what we see are images. However, when transferred to a computer, the images are represented as a matrix of numbers. In this section we will learn how to use the Mat class to represent images in OpenCV.\n",
    "\n",
    "### Basics\n",
    "The Mat class represents a matrix. It is a 2D array, with each element of the array corresponding to a pixel in the image. The Mat class is defined in the Core module of OpenCV. The Mat class is a template class that can take any number of channels. The Mat class is defined as follows:\n",
    "\n",
    "Mat< _Tp > class cv::Mat\n",
    "\n",
    "The Mat class can be used to store photo in python as follows:"
   ]
  },
  {
   "cell_type": "code",
   "execution_count": 6,
   "metadata": {},
   "outputs": [
    {
     "name": "stdout",
     "output_type": "stream",
     "text": [
      "[255 255 255]\n",
      "[255 255 255]\n"
     ]
    }
   ],
   "source": [
    "# import opencv\n",
    "import cv2\n",
    "\n",
    "# create a Mat object to store an image\n",
    "img1 = cv2.imread('images/cat.webp')\n",
    "\n",
    "# use the copy method to create a new image\n",
    "img2 = img1\n",
    "\n",
    "# modify the img1\n",
    "img1[0, 0] = [255, 255, 255]\n",
    "\n",
    "# what is the difference between the four images?\n",
    "print(img1[0, 0])\n",
    "print(img2[0, 0])\n",
    "# img1 and img2 are the same object\n"
   ]
  },
  {
   "cell_type": "markdown",
   "metadata": {},
   "source": [
    "What we can see that img1 and img4 are the same image, but the header is different. The real interesting is that you can headers which refer to subsection of the fall data.\n"
   ]
  },
  {
   "cell_type": "code",
   "execution_count": 7,
   "metadata": {},
   "outputs": [
    {
     "name": "stdout",
     "output_type": "stream",
     "text": [
      "[0 0 0]\n",
      "[0 0 0]\n"
     ]
    }
   ],
   "source": [
    "# subsection of an image\n",
    "img3 = img1[100:200, 200:300]\n",
    "img3[0, 0] = [0, 0, 0]\n",
    "print(img1[100, 200])\n",
    "print(img3[0, 0])\n"
   ]
  },
  {
   "cell_type": "markdown",
   "metadata": {},
   "source": [
    "Now we may wonder - if the matrix itself may belong to multiple Mat objects, how do we know when to deallocate the matrix? The answer is simple - the matrix will be deallocated when the last Mat object referencing it is gone. In other words, the matrix will be deallocated when the header is gone. For example, the following code will deallocate the matrix pointed by img1:"
   ]
  },
  {
   "cell_type": "code",
   "execution_count": 8,
   "metadata": {},
   "outputs": [],
   "source": [
    "# delocate the memory\n",
    "del img1, img2, img3"
   ]
  },
  {
   "cell_type": "markdown",
   "metadata": {},
   "source": [
    "Sometimes we may want to copy the data of a matrix to another matrix. In this case, we can use the copy() method of the Mat class. For example, the following code will copy the data of img1 to img2:"
   ]
  },
  {
   "cell_type": "code",
   "execution_count": 12,
   "metadata": {},
   "outputs": [
    {
     "name": "stdout",
     "output_type": "stream",
     "text": [
      "[255 255 255]\n",
      "[244 243 241]\n"
     ]
    }
   ],
   "source": [
    "# clone and copy\n",
    "img1 = cv2.imread('images/cat.webp')\n",
    "img2 = img1.copy()\n",
    "\n",
    "# modify the img1\n",
    "img1[0, 0] = [255, 255, 255]\n",
    "\n",
    "# what is the difference between the four images?\n",
    "print(img1[0, 0])\n",
    "print(img2[0, 0])\n",
    "# img1 and img2 are different objects\n",
    "del img1, img2"
   ]
  },
  {
   "cell_type": "markdown",
   "metadata": {},
   "source": [
    "### Storing methods\n",
    "This is about how the pixel value is stored. We can select the color space and the data type of the pixel value. The color space refers to how we combine color components to create colors. The simplest color space is the grayscale color space. In this color space, each pixel is represented by a single number. The number represents the intensity of the pixel. The higher the number, the brighter the pixel. The grayscale color space is also called the intensity color space.\n",
    "\n",
    "The RGB color space is the most common color space. In this color space, each pixel is represented by three numbers. The three numbers represent the intensity of the red, green and blue components of the pixel. The higher the number, the brighter the component. To code the transparency of a color a fourth component is added. This color space is called RGBA.\n",
    "\n",
    "There are, however, many other color systems, each with their own advantages:\n",
    "        RGB - Red, Green, Blue (default) : however OpenCV stores them in BGR order\n",
    "        HSV - Hue, Saturation, Value and HLS - Hue, Lightness, Saturation : are more natural way to think about colors, we may discard the value or last component to make more robust to lighting changes\n",
    "        YUV - Luminance, Chrominance : is used in video systems, where Y is the luminance component and U and V are the chrominance components\n",
    "        YCrCb - Luminance, Red Chrominance, Blue Chrominance  : used for JPEG and MPEG images\n",
    "        CIE - L*a*b* - Lightness, Red-Green, Blue-Yellow : is designed to approximate human vision, is perceptually uniform color space, meaning that the difference between two colors is perceptually uniform, which come handy if we need to measure distance given two colors\n",
    "\n",
    "The data type of the pixel value can be unsigned char, signed char, unsigned short, signed short, int, float, double, etc. The data type of the pixel value is specified by the template parameter of the Mat class. Note that increasing the data type will increase the memory required to store the pixel value. \n",
    "\n",
    "Examples of how to create a Mat object with different color spaces and data types are shown below:\n"
   ]
  },
  {
   "cell_type": "code",
   "execution_count": 16,
   "metadata": {},
   "outputs": [
    {
     "name": "stdout",
     "output_type": "stream",
     "text": [
      "(900, 600, 3)\n",
      "uint8\n",
      "(900, 600)\n",
      "uint8\n",
      "(900, 600, 3)\n",
      "uint8\n",
      "(900, 600, 3)\n",
      "float32\n",
      "(900, 600, 3)\n",
      "uint8\n",
      "(900, 600, 3)\n",
      "int8\n"
     ]
    }
   ],
   "source": [
    "# images with different color spaces (BGR, GRAY, HSV) and different data types (uint8, float32 , char)\n",
    "img = cv2.imread('images/cat.webp')\n",
    "print(img.shape)\n",
    "print(img.dtype)\n",
    "\n",
    "# convert the image to gray scale\n",
    "img_gray = cv2.cvtColor(img, cv2.COLOR_BGR2GRAY)\n",
    "print(img_gray.shape)\n",
    "print(img_gray.dtype)\n",
    "\n",
    "# convert the image to HSV\n",
    "img_hsv = cv2.cvtColor(img, cv2.COLOR_BGR2HSV)\n",
    "print(img_hsv.shape)\n",
    "print(img_hsv.dtype)\n",
    "\n",
    "# convert the image to float32\n",
    "img_float32 = img.astype(np.float32)\n",
    "print(img_float32.shape)\n",
    "print(img_float32.dtype)\n",
    "\n",
    "# convert the image to uint8\n",
    "img_uint8 = img.astype(np.uint8)\n",
    "print(img_uint8.shape)\n",
    "print(img_uint8.dtype)\n",
    "\n",
    "# convert the image to char\n",
    "img_char = img.astype(np.int8)\n",
    "print(img_char.shape)\n",
    "print(img_char.dtype)\n",
    "\n",
    "\n",
    "# delocate the memory\n",
    "del img, img_gray, img_hsv, img_float32, img_uint8, img_char"
   ]
  },
  {
   "cell_type": "markdown",
   "metadata": {},
   "source": [
    "### Creating Mat objects explicitly\n",
    "We can use cv::imwrite() to write a matrix to an image file. The first parameter is the name of the file. The second parameter is the matrix to be written. The third parameter is an optional parameter specifying the compression method. The default value is 0, which means that the image is not compressed. The following code writes the matrix img1 to the file img1.png:"
   ]
  },
  {
   "cell_type": "code",
   "execution_count": 17,
   "metadata": {},
   "outputs": [],
   "source": [
    "# imwrite method\n",
    "img = cv2.imread('images/cat.webp')\n",
    "cv2.imwrite('images/cat.png', img)\n",
    "\n",
    "# delocate the memory\n",
    "del img"
   ]
  },
  {
   "cell_type": "markdown",
   "metadata": {},
   "source": [
    "However, for debugging purposes, it is convenient to see actual values of the matrix. "
   ]
  },
  {
   "cell_type": "code",
   "execution_count": 30,
   "metadata": {},
   "outputs": [
    {
     "name": "stdout",
     "output_type": "stream",
     "text": [
      "img shape with 0,0,255 color on all pixels\n",
      "[[[  0   0 255]\n",
      "  [  0   0 255]]\n",
      "\n",
      " [[  0   0 255]\n",
      "  [  0   0 255]]]\n",
      "2x2 image with 2 channels\n",
      "[[[255 255]\n",
      "  [255 255]]\n",
      "\n",
      " [[255 255]\n",
      "  [255 255]]]\n",
      "2x2 image with 3 channels and all pixels are 0\n",
      "[[[0 0 0]\n",
      "  [0 0 0]]\n",
      "\n",
      " [[0 0 0]\n",
      "  [0 0 0]]]\n",
      "2x2 image with 3 channels and all pixels are 1\n",
      "[[[1 1 1]\n",
      "  [1 1 1]]\n",
      "\n",
      " [[1 1 1]\n",
      "  [1 1 1]]]\n",
      "eye matrix with 2x2 and 1 channel and all pixels are 1 on the diagonal\n",
      "[[1 0]\n",
      " [0 1]]\n"
     ]
    }
   ],
   "source": [
    "# import numpy\n",
    "import numpy as np\n",
    "\n",
    "# 2 by 2 image with 0,0,255 color on all pixels\n",
    "img = np.full((2, 2, 3), (0, 0, 255), dtype=np.uint8)\n",
    "print(\"img shape with 0,0,255 color on all pixels\")\n",
    "print(img)\n",
    "# 2x2 image with 2 channels\n",
    "print(\"2x2 image with 2 channels\")\n",
    "img = np.full((2, 2, 2), 255, dtype=np.uint8)\n",
    "print(img)\n",
    "# zeros ones and eye\n",
    "## 2x2 image with 3 channels and all pixels are 0\n",
    "print(\"2x2 image with 3 channels and all pixels are 0\")\n",
    "img = np.zeros((2, 2, 3), dtype=np.uint8)\n",
    "print(img)\n",
    "## 2x2 image with 3 channels and all pixels are 1\n",
    "print(\"2x2 image with 3 channels and all pixels are 1\")\n",
    "img = np.ones((2, 2, 3), dtype=np.uint8)\n",
    "print(img)\n",
    "## eye matrix with 2x2 and 1 channel and all pixels are 1 on the diagonal\n",
    "print(\"eye matrix with 2x2 and 1 channel and all pixels are 1 on the diagonal\")\n",
    "img = np.eye(2, dtype=np.uint8)\n",
    "print(img)\n",
    "\n",
    "del img\n",
    "\n"
   ]
  },
  {
   "cell_type": "code",
   "execution_count": 29,
   "metadata": {},
   "outputs": [
    {
     "name": "stdout",
     "output_type": "stream",
     "text": [
      "row\n",
      "[244 243 241]\n",
      "[255 255 255]\n",
      "column\n",
      "[244 243 241]\n",
      "[255 255 255]\n"
     ]
    }
   ],
   "source": [
    "# clone a row\n",
    "img = cv2.imread('images/cat.webp')\n",
    "img_clone = img[0].copy()\n",
    "img_clone[0] = [255, 255, 255]\n",
    "print('row')\n",
    "print(img[0, 0])\n",
    "print(img_clone[0])\n",
    "\n",
    "# clone a column\n",
    "img_clone = img[:, 0].copy()\n",
    "img_clone[0] = [255, 255, 255]\n",
    "print('column')\n",
    "print(img[0, 0])\n",
    "print(img_clone[0])\n",
    "\n",
    "del img, img_clone\n",
    "\n"
   ]
  },
  {
   "cell_type": "markdown",
   "metadata": {},
   "source": [
    "### Output format\n",
    "In python we can use the print() function to print the matrix. However, the output is not very readable. We can use the format() method of the Mat class to print the matrix in a more readable format. The format() method takes a format specifier as a parameter. The format specifier is a string that specifies how the matrix should be formatted. The format specifier is similar to the format specifier used in the printf() function of the C language.\n"
   ]
  },
  {
   "cell_type": "markdown",
   "metadata": {},
   "source": [
    "## Getting Started with Image\n",
    "\n",
    "### Goal\n",
    "In this section we will learn how to use OpenCV to read an image from a file and display the image on the screen. We will also learn how to save an image to a file.\n",
    "\n",
    "### Source code\n",
    "This code reads an image from a file and displays the image on the screen. The parameters of imread() function is \n",
    "- the name of the file to be read\n",
    "- the format of the file to be read. The default value is IMREAD_COLOR, which means that the image is read in the BGR format. Other possible values are IMREAD_GRAYSCALE and IMREAD_UNCHANGED.\n",
    "\n",
    "namedWindow() function is used to create a window in which the image is to be displayed. The parameters of the namedWindow() function are:\n",
    "- the name of the window\n",
    "- the flags of the window. The default value is WINDOW_AUTOSIZE, which means that the window is automatically resized to fit the image. Other possible values are WINDOW_NORMAL, which means that the window is not automatically resized, and WINDOW_OPENGL, which means that the window is created for OpenGL support.\n",
    "\n",
    "imshow() function is used to display the image on the screen. The parameters of the imshow() function are:\n",
    "- the name of the window in which the image is to be displayed\n",
    "- the image to be displayed\n",
    "\n",
    "\n",
    "waitKey() function is used to wait for a key to be pressed, has the following parameter:\n",
    "- the number of milliseconds to wait for a key to be pressed. The default value is 0, which means that the program waits indefinitely for a key to be pressed.\n",
    "\n",
    "imwrite() function is used to write the image to a file. The parameters of the imwrite() function are:\n",
    "- the name of the file to be written\n",
    "- the image to be written to the file\n",
    "\n",
    "destroyAllWindows() function is used to destroy all the windows created by the program."
   ]
  },
  {
   "cell_type": "code",
   "execution_count": 1,
   "metadata": {},
   "outputs": [
    {
     "name": "stderr",
     "output_type": "stream",
     "text": [
      "2023-09-19 17:16:31.900 Python[7700:471979] WARNING: Secure coding is not enabled for restorable state! Enable secure coding by implementing NSApplicationDelegate.applicationSupportsSecureRestorableState: and returning YES.\n"
     ]
    },
    {
     "ename": "",
     "evalue": "",
     "output_type": "error",
     "traceback": [
      "\u001b[1;31mThe Kernel crashed while executing code in the the current cell or a previous cell. Please review the code in the cell(s) to identify a possible cause of the failure. Click <a href='https://aka.ms/vscodeJupyterKernelCrash'>here</a> for more info. View Jupyter <a href='command:jupyter.viewOutput'>log</a> for further details."
     ]
    }
   ],
   "source": [
    "import cv2 as cv\n",
    "import sys\n",
    "\n",
    "# read the image\n",
    "img = cv.imread('images/cat.webp')\n",
    "\n",
    "# check if the image is loaded\n",
    "if img is None:\n",
    "    sys.exit(\"Could not read the image.\")\n",
    "\n",
    "# create a window\n",
    "cv.namedWindow('image', cv.WINDOW_NORMAL)\n",
    "\n",
    "# display the image\n",
    "cv.imshow('image', img)\n",
    "\n",
    "# wait for a key\n",
    "k = cv.waitKey(0)\n",
    "\n",
    "# if the key pressed is 's'\n",
    "if k == ord('s'):\n",
    "    # save the image\n",
    "    cv.imwrite('images/cat.png', img)\n",
    "    # destroy all windows\n",
    "    cv.destroyAllWindows()\n"
   ]
  },
  {
   "cell_type": "markdown",
   "metadata": {},
   "source": [
    "## Getting Started with Video\n",
    "\n",
    "### Goal\n",
    "In this section we will learn how to use OpenCV to read a video from a file and display the video on the screen. We will also learn how to save a video to a file.\n",
    "\n",
    "### Capture video from camera\n",
    "To capture a video from a camera, we first need to create a VideoCapture object. The VideoCapture object is created as follows:"
   ]
  },
  {
   "cell_type": "code",
   "execution_count": 3,
   "metadata": {},
   "outputs": [],
   "source": [
    "# capture video from camera\n",
    "import cv2 as cv\n",
    "import numpy as np\n",
    "\n",
    "# create a VideoCapture object\n",
    "cap = cv.VideoCapture(0)\n",
    "\n",
    "# check if the camera is opened\n",
    "if not cap.isOpened():\n",
    "    print(\"Cannot open camera\")\n",
    "    exit()\n",
    "\n",
    "# read the frame\n",
    "while True:\n",
    "    # capture frame by frame\n",
    "    ret, frame = cap.read()\n",
    "\n",
    "    # if frame is read correctly ret is True\n",
    "    if not ret:\n",
    "        print(\"Can't receive frame (stream end?). Exiting ...\")\n",
    "        break\n",
    "\n",
    "    # our operations on the frame come here\n",
    "    gray = cv.cvtColor(frame, cv.COLOR_BGR2GRAY)\n",
    "    mirror = cv.flip(gray, 1)\n",
    "    \n",
    "    cv.imshow('mirror', mirror)\n",
    "    # wait for a key\n",
    "    if cv.waitKey(1) == ord('q'):\n",
    "        break\n",
    "\n",
    "# release the capture\n",
    "cap.release()\n",
    "\n",
    "# destroy all windows\n",
    "cv.destroyAllWindows()\n",
    "\n"
   ]
  },
  {
   "cell_type": "markdown",
   "metadata": {},
   "source": [
    "cap.read() function is used to read a frame from the video. The parameters of the cap.read() function are:\n",
    "- the frame to be read from the video\n",
    "\n",
    "cap.isOpened() function is used to check if the video is opened successfully. The parameters of the cap.isOpened() function are:\n",
    "- the frame to be read from the video\n",
    "\n",
    "cap.release() function is used to release the video. The parameters of the cap.release() function are:\n",
    "\n",
    "cap.get() function is used to get the properties of the video. The parameters of the cap.get() function are:\n",
    "- the property to be retrieved\n",
    "\n",
    "cap.set() function is used to set the properties of the video. The parameters of the cap.set() function are:\n",
    "- the property to be set\n",
    "- the value of the property to be set\n",
    "\n",
    "### Play video from file\n",
    "To play a video from a file, we first need to create a VideoCapture object. The VideoCapture object is created as follows:\n"
   ]
  },
  {
   "cell_type": "code",
   "execution_count": 5,
   "metadata": {},
   "outputs": [],
   "source": [
    "# play video from file\n",
    "import cv2 as cv\n",
    "import numpy as np\n",
    "\n",
    "# create a VideoCapture object\n",
    "cap = cv.VideoCapture('videos/cute.mp4')\n",
    "\n",
    "while cap.isOpened():\n",
    "    # read the frame\n",
    "    ret, frame = cap.read()\n",
    "\n",
    "    # if frame is read correctly ret is True\n",
    "    if not ret:\n",
    "        print(\"Can't receive frame (stream end?). Exiting ...\")\n",
    "        break\n",
    "\n",
    "    # our operations on the frame come here\n",
    "    gray = cv.cvtColor(frame, cv.COLOR_BGR2GRAY)\n",
    "    mirror = cv.flip(gray, 1)\n",
    "    \n",
    "    cv.imshow('mirror', mirror)\n",
    "    # wait for a key\n",
    "    if cv.waitKey(1) == ord('q'):\n",
    "        break\n",
    "\n"
   ]
  },
  {
   "cell_type": "markdown",
   "metadata": {},
   "source": [
    "### Save video to file\n",
    "To save a video to a file, we first need to create a VideoWriter object. The VideoWriter object is created as follows:\n"
   ]
  },
  {
   "cell_type": "code",
   "execution_count": 10,
   "metadata": {},
   "outputs": [
    {
     "name": "stderr",
     "output_type": "stream",
     "text": [
      "OpenCV: FFMPEG: tag 0x47504a4d/'MJPG' is not supported with codec id 7 and format 'mp4 / MP4 (MPEG-4 Part 14)'\n",
      "OpenCV: FFMPEG: fallback to use tag 0x7634706d/'mp4v'\n"
     ]
    }
   ],
   "source": [
    "# Save video\n",
    "import cv2 as cv\n",
    "import numpy as np\n",
    "\n",
    "# create a VideoCapture object\n",
    "cap = cv.VideoCapture(0)\n",
    "\n",
    "# define the codec and create VideoWriter object\n",
    "fourcc = cv.VideoWriter_fourcc(*'MJPG')\n",
    "out = cv.VideoWriter('videos/output.mp4', fourcc, 20.0, (640, 480))\n",
    "\n",
    "while cap.isOpened():\n",
    "    # read the frame\n",
    "    ret, frame = cap.read()\n",
    "\n",
    "    # if frame is read correctly ret is True\n",
    "    if not ret:\n",
    "        print(\"Can't receive frame (stream end?). Exiting ...\")\n",
    "        break\n",
    "\n",
    "    # our operations on the frame come here\n",
    "    gray = cv.cvtColor(frame, cv.COLOR_BGR2GRAY)\n",
    "    mirror = cv.flip(gray, 1)\n",
    "    # make it look cartoonish\n",
    "    mirror = cv.medianBlur(mirror, 5)\n",
    "    # add edge detection\n",
    "    mirror = cv.Canny(mirror, 100, 200)\n",
    "    \n",
    "    # write the flipped frame\n",
    "    out.write(mirror)\n",
    "    \n",
    "    cv.imshow('mirror', mirror)\n",
    "    # wait for a key\n",
    "    if cv.waitKey(1) == ord('q'):\n",
    "        break\n",
    "\n",
    "# release the capture\n",
    "cap.release()\n",
    "\n",
    "# release the output\n",
    "out.release()\n",
    "\n",
    "# destroy all windows\n",
    "cv.destroyAllWindows()\n"
   ]
  },
  {
   "cell_type": "markdown",
   "metadata": {},
   "source": [
    "video.write() function is used to write a frame to the video. The parameters of the video.write() function are:\n",
    "- the frame to be written to the video\n",
    "\n",
    "VideoWriter_fourcc() function is used to create a four character code (FOURCC) for the video codec.\n",
    "FourCC is a 4-byte code used to specify the video codec. The list of available codes can be found in fourcc.org. It is platform dependent. The following codecs work fine for me.\n",
    "\n",
    "In Fedora: DIVX, XVID, MJPG, X264, WMV1, WMV2. (XVID is more preferable. MJPG results in high size video. X264 gives very small size video)\n",
    "In Windows: DIVX (More to be tested and added)\n",
    "In OSX: MJPG (.mp4), DIVX (.avi), X264 (.mkv).\n",
    "FourCC code is passed as `cv.VideoWriter_fourcc('M','J','P','G')or cv.VideoWriter_fourcc(*'MJPG')` for MJPG.\n"
   ]
  },
  {
   "cell_type": "markdown",
   "metadata": {},
   "source": [
    "## Getting Started with Drawing\n",
    "\n",
    "### Goal\n",
    "In this section we will learn how to use OpenCV to draw lines, rectangles, circles, ellipses, polygons, text and put images on an image.\n",
    "\n",
    "### Drawing lines\n",
    "line() function is used to draw a line on an image. The parameters of the line() function are:\n",
    "- the image on which the line is to be drawn\n",
    "- the starting point of the line\n",
    "- the ending point of the line\n",
    "- the color of the line\n",
    "- the thickness of the line"
   ]
  },
  {
   "cell_type": "code",
   "execution_count": 13,
   "metadata": {},
   "outputs": [],
   "source": [
    "# draw a line\n",
    "import cv2 as cv\n",
    "import numpy as np\n",
    "\n",
    "# create a black image\n",
    "img = np.zeros((512, 512, 3), np.uint8)\n",
    "\n",
    "# draw a diagonal blue line with thickness of 5 px\n",
    "img = cv.line(img, (0, 0), (511, 511), (255, 0, 0), 5)\n",
    "\n",
    "# display the image\n",
    "cv.imshow('image', img)\n",
    "\n",
    "# wait for a key\n",
    "cv.waitKey(0)\n",
    "\n",
    "# destroy all windows\n",
    "cv.destroyAllWindows()\n"
   ]
  },
  {
   "cell_type": "markdown",
   "metadata": {},
   "source": [
    "### Drawing rectangles\n",
    "rectangle() function is used to draw a rectangle on an image. The parameters of the rectangle() function are:\n",
    "- the image on which the rectangle is to be drawn\n",
    "- the top-left corner of the rectangle\n",
    "- the bottom-right corner of the rectangle\n",
    "- the color of the rectangle\n",
    "- the thickness of the rectangle"
   ]
  },
  {
   "cell_type": "code",
   "execution_count": 14,
   "metadata": {},
   "outputs": [],
   "source": [
    "# draw a rectangle with thickness of 3 px and green color\n",
    "img = cv.rectangle(img, (384, 0), (510, 128), (0, 255, 0), 3)\n",
    "\n",
    "# display the image\n",
    "cv.imshow('image', img)\n",
    "\n",
    "# wait for a key\n",
    "cv.waitKey(0)\n",
    "\n",
    "# destroy all windows\n",
    "cv.destroyAllWindows()"
   ]
  },
  {
   "cell_type": "markdown",
   "metadata": {},
   "source": [
    "### Drawing circles\n",
    "circle() function is used to draw a circle on an image. The parameters of the circle() function are:\n",
    "- the image on which the circle is to be drawn\n",
    "- the center of the circle\n",
    "- the radius of the circle\n",
    "- the color of the circle\n",
    "- the thickness of the circle\n"
   ]
  },
  {
   "cell_type": "code",
   "execution_count": 15,
   "metadata": {},
   "outputs": [],
   "source": [
    "# draw a circle with thickness of -1 px and red color\n",
    "img = cv.circle(img, (447, 63), 63, (0, 0, 255), -1)\n",
    "\n",
    "# display the image\n",
    "cv.imshow('image', img)\n",
    "\n",
    "# wait for a key\n",
    "cv.waitKey(0)\n",
    "\n",
    "# destroy all windows\n",
    "cv.destroyAllWindows()"
   ]
  },
  {
   "cell_type": "markdown",
   "metadata": {},
   "source": [
    "### Drawing ellipses\n",
    "ellipse() function is used to draw an ellipse on an image. The parameters of the ellipse() function are:\n",
    "- the image on which the ellipse is to be drawn\n",
    "- the center of the ellipse\n",
    "- the axes of the ellipse\n",
    "- the angle of rotation of the ellipse\n",
    "- the starting angle of the ellipse\n",
    "- the ending angle of the ellipse\n",
    "- the color of the ellipse\n",
    "- the thickness of the ellipse"
   ]
  },
  {
   "cell_type": "code",
   "execution_count": 17,
   "metadata": {},
   "outputs": [],
   "source": [
    "# draw an ellipse with thickness of -1 px of angle 0 and 180 degrees and blue color\n",
    "img = cv.ellipse(img, (256, 256), (100, 50), 0, 0, 180, 255, -1)\n",
    "\n",
    "# display the image\n",
    "cv.imshow('image', img)\n",
    "\n",
    "# wait for a key\n",
    "cv.waitKey(0)\n",
    "\n",
    "# destroy all windows\n",
    "cv.destroyAllWindows()\n"
   ]
  },
  {
   "cell_type": "markdown",
   "metadata": {},
   "source": [
    "### Drawing polygons\n",
    "polylines() function is used to draw a polygon on an image. The parameters of the polylines() function are:\n",
    "- the image on which the polygon is to be drawn\n",
    "- the points of the polygon\n",
    "- the color of the polygon\n",
    "- the thickness of the polygon\n",
    "\n",
    "Note that the points of the polygon are passed as a list of points. Each point is a tuple of two integers. The first integer is the x-coordinate of the point. The second integer is the y-coordinate of the point. The points are connected by straight lines. The last point is connected to the first point. Can be used to draw multiple lines. Better and faster way to draw a group of lines than calling cv2.line() for each line.\n"
   ]
  },
  {
   "cell_type": "code",
   "execution_count": 19,
   "metadata": {},
   "outputs": [],
   "source": [
    "# draw a polygon with thickness of -1 px and yellow color\n",
    "pts = np.array([[10,5],[20,30],[70,20],[50,10]], np.int32)\n",
    "pts = pts.reshape((-1,1,2))\n",
    "cv.polylines(img,[pts],True,(0,255,255))\n",
    "\n",
    "# display the image\n",
    "cv.imshow('image', img)\n",
    "\n",
    "# wait for a key\n",
    "cv.waitKey(0)\n",
    "\n",
    "# destroy all windows\n",
    "cv.destroyAllWindows()"
   ]
  },
  {
   "cell_type": "markdown",
   "metadata": {},
   "source": [
    "### Drawing text\n",
    "putText() function is used to draw text on an image. The parameters of the putText() function are:\n",
    "- the image on which the text is to be drawn\n",
    "- the text to be drawn\n",
    "- the position of the text\n",
    "- the font of the text\n",
    "- the size of the text\n",
    "- the color of the text\n",
    "- the thickness of the text"
   ]
  },
  {
   "cell_type": "code",
   "execution_count": 20,
   "metadata": {},
   "outputs": [],
   "source": [
    "# add text to the image\n",
    "font = cv.FONT_HERSHEY_SIMPLEX\n",
    "\n",
    "cv.putText(img,'OpenCV',(10,500), font, 4,(255,255,255),2,cv.LINE_AA)\n",
    "\n",
    "# display the image\n",
    "cv.imshow('image', img)\n",
    "\n",
    "# wait for a key\n",
    "cv.waitKey(0)\n",
    "\n",
    "# destroy all windows\n",
    "cv.destroyAllWindows()"
   ]
  },
  {
   "cell_type": "markdown",
   "metadata": {},
   "source": [
    "#### OpenCV logo"
   ]
  },
  {
   "cell_type": "code",
   "execution_count": 88,
   "metadata": {},
   "outputs": [],
   "source": [
    "## OpenCv logo\n",
    "# create a black image\n",
    "img = np.zeros((512, 512, 3), np.uint8)\n",
    "\n",
    "# draw the red C on top center\n",
    "img = cv.circle(img, (256, 128), 100, (0, 0, 255), -1)\n",
    "img = cv.circle(img, (256, 128), 50, (0, 0, 0), -1)\n",
    "# draw a filled triangle\n",
    "pts = np.array([[256, 128], [190, 256], [320, 256]], np.int32)\n",
    "pts = pts.reshape((-1, 1, 2))\n",
    "img = cv.fillPoly(img, [pts], (0, 0, 0))\n",
    "\n",
    "# draw the green C on bottom left\n",
    "img = cv.circle(img, (128, 384), 100, (0, 255, 0), -1)\n",
    "img = cv.circle(img, (128, 384), 50, (0, 0, 0), -1)\n",
    "# draw a filled triangle for the green C\n",
    "pts = np.array([[128, 384], [190, 256], [256, 356]], np.int32)\n",
    "pts = pts.reshape((-1, 1, 2))\n",
    "img = cv.fillPoly(img, [pts], (0, 0, 0))\n",
    "\n",
    "# draw the blue C on bottom right\n",
    "img = cv.circle(img, (384, 384), 100, (255, 0, 0), -1)\n",
    "img = cv.circle(img, (384, 384), 50, (0, 0, 0), -1)\n",
    "# draw a filled triangle to open the blue C from the top\n",
    "pts = np.array([[384, 384], [448, 256], [320, 256]], np.int32)\n",
    "pts = pts.reshape((-1, 1, 2))\n",
    "img = cv.fillPoly(img, [pts], (0, 0, 0))\n",
    "\n",
    "# display the image\n",
    "cv.imshow('image', img)\n",
    "\n",
    "# wait for a key\n",
    "cv.waitKey(0)\n",
    "\n",
    "# destroy all windows\n",
    "cv.destroyAllWindows()"
   ]
  },
  {
   "cell_type": "markdown",
   "metadata": {},
   "source": [
    "![opencv](images/opencv_logo.png)"
   ]
  },
  {
   "cell_type": "code",
   "execution_count": null,
   "metadata": {},
   "outputs": [],
   "source": []
  }
 ],
 "metadata": {
  "kernelspec": {
   "display_name": "Python 3",
   "language": "python",
   "name": "python3"
  },
  "language_info": {
   "codemirror_mode": {
    "name": "ipython",
    "version": 3
   },
   "file_extension": ".py",
   "mimetype": "text/x-python",
   "name": "python",
   "nbconvert_exporter": "python",
   "pygments_lexer": "ipython3",
   "version": "3.11.4"
  },
  "orig_nbformat": 4
 },
 "nbformat": 4,
 "nbformat_minor": 2
}
