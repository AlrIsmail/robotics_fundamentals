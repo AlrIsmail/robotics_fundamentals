{
 "cells": [
  {
   "cell_type": "markdown",
   "metadata": {},
   "source": [
    "# OpenCV\n",
    "opencv is a library of programming functions mainly aimed at real-time computer vision. We will use it to process images and videos. OpenCV was originally developed by Intel and is now maintained by Willow Garage and ItSeez. opencv-python is the Python API of OpenCV. It combines the best qualities of OpenCV C++ API and Python language.\n",
    "\n",
    "## Installation"
   ]
  },
  {
   "cell_type": "code",
   "execution_count": 2,
   "metadata": {},
   "outputs": [
    {
     "name": "stdout",
     "output_type": "stream",
     "text": [
      "Collecting opencv-python\n",
      "  Obtaining dependency information for opencv-python from https://files.pythonhosted.org/packages/8a/6f/8aa049b66bcba8b5a4dc872ecfdbcd8603a96704b070fde22222e479c3d7/opencv_python-4.8.0.76-cp37-abi3-macosx_10_16_x86_64.whl.metadata\n",
      "  Downloading opencv_python-4.8.0.76-cp37-abi3-macosx_10_16_x86_64.whl.metadata (19 kB)\n",
      "Requirement already satisfied: numpy>=1.21.2 in /usr/local/lib/python3.11/site-packages (from opencv-python) (1.25.2)\n",
      "Downloading opencv_python-4.8.0.76-cp37-abi3-macosx_10_16_x86_64.whl (54.7 MB)\n",
      "\u001b[2K   \u001b[90m━━━━━━━━━━━━━━━━━━━━━━━━━━━━━━━━━━━━━━━━\u001b[0m \u001b[32m54.7/54.7 MB\u001b[0m \u001b[31m11.0 MB/s\u001b[0m eta \u001b[36m0:00:00\u001b[0m00:01\u001b[0m00:01\u001b[0m\n",
      "\u001b[?25hInstalling collected packages: opencv-python\n",
      "Successfully installed opencv-python-4.8.0.76\n",
      "Note: you may need to restart the kernel to use updated packages.\n"
     ]
    }
   ],
   "source": [
    "%pip install opencv-python"
   ]
  },
  {
   "cell_type": "code",
   "execution_count": 14,
   "metadata": {},
   "outputs": [],
   "source": [
    "# import opencv\n",
    "import cv2\n",
    "# import numpy\n",
    "import numpy as np"
   ]
  },
  {
   "cell_type": "markdown",
   "metadata": {},
   "source": [
    "## Mat - the basic image container\n",
    "### Goal\n",
    "We have multiple ways to aquire digital images from the real world: digital cameras, scanners, computed tomography, etc. In every case what we see are images. However, when transferred to a computer, the images are represented as a matrix of numbers. In this section we will learn how to use the Mat class to represent images in OpenCV.\n",
    "\n",
    "### Basics\n",
    "The Mat class represents a matrix. It is a 2D array, with each element of the array corresponding to a pixel in the image. The Mat class is defined in the Core module of OpenCV. The Mat class is a template class that can take any number of channels. The Mat class is defined as follows:\n",
    "\n",
    "Mat< _Tp > class cv::Mat\n",
    "\n",
    "The Mat class can be used to store photo in python as follows:"
   ]
  },
  {
   "cell_type": "code",
   "execution_count": 6,
   "metadata": {},
   "outputs": [
    {
     "name": "stdout",
     "output_type": "stream",
     "text": [
      "[255 255 255]\n",
      "[255 255 255]\n"
     ]
    }
   ],
   "source": [
    "# create a Mat object to store an image\n",
    "img1 = cv2.imread('images/cat.webp')\n",
    "\n",
    "# use the copy method to create a new image\n",
    "img2 = img1\n",
    "\n",
    "# modify the img1\n",
    "img1[0, 0] = [255, 255, 255]\n",
    "\n",
    "# what is the difference between the four images?\n",
    "print(img1[0, 0])\n",
    "print(img2[0, 0])\n",
    "# img1 and img2 are the same object\n"
   ]
  },
  {
   "cell_type": "markdown",
   "metadata": {},
   "source": [
    "What we can see that img1 and img4 are the same image, but the header is different. The real interesting is that you can headers which refer to subsection of the fall data.\n"
   ]
  },
  {
   "cell_type": "code",
   "execution_count": 7,
   "metadata": {},
   "outputs": [
    {
     "name": "stdout",
     "output_type": "stream",
     "text": [
      "[0 0 0]\n",
      "[0 0 0]\n"
     ]
    }
   ],
   "source": [
    "# subsection of an image\n",
    "img3 = img1[100:200, 200:300]\n",
    "img3[0, 0] = [0, 0, 0]\n",
    "print(img1[100, 200])\n",
    "print(img3[0, 0])\n"
   ]
  },
  {
   "cell_type": "markdown",
   "metadata": {},
   "source": [
    "Now we may wonder - if the matrix itself may belong to multiple Mat objects, how do we know when to deallocate the matrix? The answer is simple - the matrix will be deallocated when the last Mat object referencing it is gone. In other words, the matrix will be deallocated when the header is gone. For example, the following code will deallocate the matrix pointed by img1:"
   ]
  },
  {
   "cell_type": "code",
   "execution_count": 8,
   "metadata": {},
   "outputs": [],
   "source": [
    "# delocate the memory\n",
    "del img1, img2, img3"
   ]
  },
  {
   "cell_type": "markdown",
   "metadata": {},
   "source": [
    "Sometimes we may want to copy the data of a matrix to another matrix. In this case, we can use the copy() method of the Mat class. For example, the following code will copy the data of img1 to img2:"
   ]
  },
  {
   "cell_type": "code",
   "execution_count": 12,
   "metadata": {},
   "outputs": [
    {
     "name": "stdout",
     "output_type": "stream",
     "text": [
      "[255 255 255]\n",
      "[244 243 241]\n"
     ]
    }
   ],
   "source": [
    "# clone and copy\n",
    "img1 = cv2.imread('images/cat.webp')\n",
    "img2 = img1.copy()\n",
    "\n",
    "# modify the img1\n",
    "img1[0, 0] = [255, 255, 255]\n",
    "\n",
    "# what is the difference between the four images?\n",
    "print(img1[0, 0])\n",
    "print(img2[0, 0])\n",
    "# img1 and img2 are different objects\n",
    "del img1, img2"
   ]
  },
  {
   "cell_type": "markdown",
   "metadata": {},
   "source": [
    "### Storing methods\n",
    "This is about how the pixel value is stored. We can select the color space and the data type of the pixel value. The color space refers to how we combine color components to create colors. The simplest color space is the grayscale color space. In this color space, each pixel is represented by a single number. The number represents the intensity of the pixel. The higher the number, the brighter the pixel. The grayscale color space is also called the intensity color space.\n",
    "\n",
    "The RGB color space is the most common color space. In this color space, each pixel is represented by three numbers. The three numbers represent the intensity of the red, green and blue components of the pixel. The higher the number, the brighter the component. To code the transparency of a color a fourth component is added. This color space is called RGBA.\n",
    "\n",
    "There are, however, many other color systems, each with their own advantages:\n",
    "        RGB - Red, Green, Blue (default) : however OpenCV stores them in BGR order\n",
    "        HSV - Hue, Saturation, Value and HLS - Hue, Lightness, Saturation : are more natural way to think about colors, we may discard the value or last component to make more robust to lighting changes\n",
    "        YUV - Luminance, Chrominance : is used in video systems, where Y is the luminance component and U and V are the chrominance components\n",
    "        YCrCb - Luminance, Red Chrominance, Blue Chrominance  : used for JPEG and MPEG images\n",
    "        CIE - L*a*b* - Lightness, Red-Green, Blue-Yellow : is designed to approximate human vision, is perceptually uniform color space, meaning that the difference between two colors is perceptually uniform, which come handy if we need to measure distance given two colors\n",
    "\n",
    "The data type of the pixel value can be unsigned char, signed char, unsigned short, signed short, int, float, double, etc. The data type of the pixel value is specified by the template parameter of the Mat class. Note that increasing the data type will increase the memory required to store the pixel value. \n",
    "\n",
    "Examples of how to create a Mat object with different color spaces and data types are shown below:\n"
   ]
  },
  {
   "cell_type": "code",
   "execution_count": 16,
   "metadata": {},
   "outputs": [
    {
     "name": "stdout",
     "output_type": "stream",
     "text": [
      "(900, 600, 3)\n",
      "uint8\n",
      "(900, 600)\n",
      "uint8\n",
      "(900, 600, 3)\n",
      "uint8\n",
      "(900, 600, 3)\n",
      "float32\n",
      "(900, 600, 3)\n",
      "uint8\n",
      "(900, 600, 3)\n",
      "int8\n"
     ]
    }
   ],
   "source": [
    "# images with different color spaces (BGR, GRAY, HSV) and different data types (uint8, float32 , char)\n",
    "img = cv2.imread('images/cat.webp')\n",
    "print(img.shape)\n",
    "print(img.dtype)\n",
    "\n",
    "# convert the image to gray scale\n",
    "img_gray = cv2.cvtColor(img, cv2.COLOR_BGR2GRAY)\n",
    "print(img_gray.shape)\n",
    "print(img_gray.dtype)\n",
    "\n",
    "# convert the image to HSV\n",
    "img_hsv = cv2.cvtColor(img, cv2.COLOR_BGR2HSV)\n",
    "print(img_hsv.shape)\n",
    "print(img_hsv.dtype)\n",
    "\n",
    "# convert the image to float32\n",
    "img_float32 = img.astype(np.float32)\n",
    "print(img_float32.shape)\n",
    "print(img_float32.dtype)\n",
    "\n",
    "# convert the image to uint8\n",
    "img_uint8 = img.astype(np.uint8)\n",
    "print(img_uint8.shape)\n",
    "print(img_uint8.dtype)\n",
    "\n",
    "# convert the image to char\n",
    "img_char = img.astype(np.int8)\n",
    "print(img_char.shape)\n",
    "print(img_char.dtype)\n",
    "\n",
    "\n",
    "# delocate the memory\n",
    "del img, img_gray, img_hsv, img_float32, img_uint8, img_char"
   ]
  },
  {
   "cell_type": "markdown",
   "metadata": {},
   "source": [
    "### Creating Mat objects explicitly\n",
    "We can use cv::imwrite() to write a matrix to an image file. The first parameter is the name of the file. The second parameter is the matrix to be written. The third parameter is an optional parameter specifying the compression method. The default value is 0, which means that the image is not compressed. The following code writes the matrix img1 to the file img1.png:"
   ]
  },
  {
   "cell_type": "code",
   "execution_count": 17,
   "metadata": {},
   "outputs": [],
   "source": [
    "# imwrite method\n",
    "img = cv2.imread('images/cat.webp')\n",
    "cv2.imwrite('images/cat.png', img)\n",
    "\n",
    "# delocate the memory\n",
    "del img"
   ]
  },
  {
   "cell_type": "markdown",
   "metadata": {},
   "source": [
    "However, for debugging purposes, it is convenient to see actual values of the matrix. "
   ]
  },
  {
   "cell_type": "code",
   "execution_count": 30,
   "metadata": {},
   "outputs": [
    {
     "name": "stdout",
     "output_type": "stream",
     "text": [
      "img shape with 0,0,255 color on all pixels\n",
      "[[[  0   0 255]\n",
      "  [  0   0 255]]\n",
      "\n",
      " [[  0   0 255]\n",
      "  [  0   0 255]]]\n",
      "2x2 image with 2 channels\n",
      "[[[255 255]\n",
      "  [255 255]]\n",
      "\n",
      " [[255 255]\n",
      "  [255 255]]]\n",
      "2x2 image with 3 channels and all pixels are 0\n",
      "[[[0 0 0]\n",
      "  [0 0 0]]\n",
      "\n",
      " [[0 0 0]\n",
      "  [0 0 0]]]\n",
      "2x2 image with 3 channels and all pixels are 1\n",
      "[[[1 1 1]\n",
      "  [1 1 1]]\n",
      "\n",
      " [[1 1 1]\n",
      "  [1 1 1]]]\n",
      "eye matrix with 2x2 and 1 channel and all pixels are 1 on the diagonal\n",
      "[[1 0]\n",
      " [0 1]]\n"
     ]
    }
   ],
   "source": [
    "# 2 by 2 image with 0,0,255 color on all pixels\n",
    "img = np.full((2, 2, 3), (0, 0, 255), dtype=np.uint8)\n",
    "print(\"img shape with 0,0,255 color on all pixels\")\n",
    "print(img)\n",
    "# 2x2 image with 2 channels\n",
    "print(\"2x2 image with 2 channels\")\n",
    "img = np.full((2, 2, 2), 255, dtype=np.uint8)\n",
    "print(img)\n",
    "# zeros ones and eye\n",
    "## 2x2 image with 3 channels and all pixels are 0\n",
    "print(\"2x2 image with 3 channels and all pixels are 0\")\n",
    "img = np.zeros((2, 2, 3), dtype=np.uint8)\n",
    "print(img)\n",
    "## 2x2 image with 3 channels and all pixels are 1\n",
    "print(\"2x2 image with 3 channels and all pixels are 1\")\n",
    "img = np.ones((2, 2, 3), dtype=np.uint8)\n",
    "print(img)\n",
    "## eye matrix with 2x2 and 1 channel and all pixels are 1 on the diagonal\n",
    "print(\"eye matrix with 2x2 and 1 channel and all pixels are 1 on the diagonal\")\n",
    "img = np.eye(2, dtype=np.uint8)\n",
    "print(img)\n",
    "\n",
    "del img\n",
    "\n"
   ]
  },
  {
   "cell_type": "code",
   "execution_count": 29,
   "metadata": {},
   "outputs": [
    {
     "name": "stdout",
     "output_type": "stream",
     "text": [
      "row\n",
      "[244 243 241]\n",
      "[255 255 255]\n",
      "column\n",
      "[244 243 241]\n",
      "[255 255 255]\n"
     ]
    }
   ],
   "source": [
    "# clone a row\n",
    "img = cv2.imread('images/cat.webp')\n",
    "img_clone = img[0].copy()\n",
    "img_clone[0] = [255, 255, 255]\n",
    "print('row')\n",
    "print(img[0, 0])\n",
    "print(img_clone[0])\n",
    "\n",
    "# clone a column\n",
    "img_clone = img[:, 0].copy()\n",
    "img_clone[0] = [255, 255, 255]\n",
    "print('column')\n",
    "print(img[0, 0])\n",
    "print(img_clone[0])\n",
    "\n",
    "del img, img_clone\n",
    "\n"
   ]
  },
  {
   "cell_type": "markdown",
   "metadata": {},
   "source": [
    "### Output format\n",
    "In python we can use the print() function to print the matrix. However, the output is not very readable. We can use the format() method of the Mat class to print the matrix in a more readable format. The format() method takes a format specifier as a parameter. The format specifier is a string that specifies how the matrix should be formatted. The format specifier is similar to the format specifier used in the printf() function of the C language.\n"
   ]
  },
  {
   "cell_type": "code",
   "execution_count": 31,
   "metadata": {},
   "outputs": [],
   "source": [
    "## How to scan an image, lookup table, and time measurement\n",
    "### Goal\n"
   ]
  },
  {
   "cell_type": "code",
   "execution_count": null,
   "metadata": {},
   "outputs": [],
   "source": []
  }
 ],
 "metadata": {
  "kernelspec": {
   "display_name": "Python 3",
   "language": "python",
   "name": "python3"
  },
  "language_info": {
   "codemirror_mode": {
    "name": "ipython",
    "version": 3
   },
   "file_extension": ".py",
   "mimetype": "text/x-python",
   "name": "python",
   "nbconvert_exporter": "python",
   "pygments_lexer": "ipython3",
   "version": "3.11.4"
  },
  "orig_nbformat": 4
 },
 "nbformat": 4,
 "nbformat_minor": 2
}
