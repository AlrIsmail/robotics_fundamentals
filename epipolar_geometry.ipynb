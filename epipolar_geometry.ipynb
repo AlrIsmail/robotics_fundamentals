{
 "cells": [
  {
   "cell_type": "markdown",
   "metadata": {},
   "source": [
    "# Epipolar Geometry: Understanding 3D from Multiple Views\n",
    "\n",
    "In this set of lecture notes, we delve into the fascinating world of epipolar geometry, a crucial concept in computer vision and 3D scene reconstruction. Epipolar geometry plays a pivotal role in understanding the relationships between multiple cameras, 3D points, and their 2D projections.\n",
    "\n",
    "## The Challenge of Ambiguity\n",
    "\n",
    "![Ambiguity in 3D Scene Interpretation](images/figure1_eg.png)\n",
    "\n",
    "Before we delve into epipolar geometry, it's essential to acknowledge the intrinsic ambiguity in mapping 3D scenes to 2D images. Figure 1 illustrates how a single image can lead to ambiguous interpretations of the 3D world. Multiple views of the same scene become invaluable in resolving these ambiguities.\n",
    "\n",
    "## Epipolar Geometry\n",
    "\n",
    "![Epipolar Geometry](images/figure2_eg.png)\n",
    "**Epipolar geometry** is the key to unraveling these ambiguities when multiple cameras are involved. Figure 2 provides an overview of the essential elements of epipolar geometry. It involves two cameras observing the same 3D point, with their respective image plane projections labeled `p` and `p'`. The baseline connects the camera centers `O1` and `O2`, defining the **epipolar plane**. The points where the baseline intersects the image planes are the **epipoles** (`e` and `e'`). The lines formed by the intersection of the epipolar plane and the image planes are the **epipolar lines**.\n",
    "\n",
    "## Parallel Image Planes\n",
    "\n",
    "![Parallel Image Planes](images/figure3_eg.png)\n",
    "In some scenarios, the image planes may be parallel, as shown in Figure 3. In such cases, the epipoles `e` and `e'` will be located at infinity. Importantly, the epipolar lines become parallel to one of the axes of each image plane. This parallel configuration has practical implications, particularly in image rectification.\n",
    "\n",
    "## Leveraging Epipolar Geometry\n",
    "\n",
    "In real-world situations, we typically know the camera locations, orientations, and camera matrices, but not the exact 3D location `P`. Using this knowledge, we can define the epipolar plane and determine the epipolar lines. By understanding epipolar geometry, we can establish a strong constraint between pairs of images without knowing the full 3D scene structure.\n",
    "\n",
    "## Mapping Points and Epipolar Lines\n",
    "\n",
    "To map points and epipolar lines across views, we use camera projection matrices `M` and `M'`. These matrices map 3D points to their respective 2D image plane locations. Assuming the world reference system is associated with the first camera, and the second camera is offset by a rotation `R` and translation `T`, we can define the camera projection matrices as:\n",
    "\n",
    "```\n",
    "M = K [I | 0]\n",
    "M' = K' [R | T]\n",
    "```\n",
    "\n",
    "This setup allows us to map points and epipolar lines seamlessly across different views, contributing to a deeper understanding of the 3D world from multiple camera perspectives.\n",
    "\n",
    "Epipolar geometry is a fundamental concept in computer vision, enabling us to resolve ambiguities and extract valuable information about 3D scenes from 2D images. These lecture notes lay the foundation for further exploration of epipolar geometry's applications and implications in the field of computer vision."
   ]
  },
  {
   "cell_type": "markdown",
   "metadata": {},
   "source": [
    "## The Essential Matrix: Unveiling the Epipolar Constraint\n",
    "\n",
    "In the context of canonical cameras where both camera matrices are identity matrices (`K = K' = I`), the camera projection matrices simplify to:\n",
    "\n",
    "```\n",
    "M = [I | 0]\n",
    "M' = [R | T]\n",
    "```\n",
    "\n",
    "This simplification implies that the location of `p'` in the reference system of the first camera is `Rp' + T`. Since `Rp' + T` and `T` both lie in the epipolar plane, their cross product, `T × (Rp')`, gives a vector that is normal to the epipolar plane. Therefore, `p`, which also lies in the epipolar plane, must be normal to `T × (Rp')`. This relationship can be expressed as the dot product:\n",
    "\n",
    "```\n",
    "pᵀ · [T × (Rp')] = 0\n",
    "```\n",
    "\n",
    "Utilizing a compact expression for the cross product, represented as `[T×]`, this equation becomes:\n",
    "\n",
    "```\n",
    "pᵀ [T×] Rp' = 0\n",
    "```\n",
    "\n",
    "The matrix `E = [T×]R` is termed the **Essential Matrix**, leading to a concise expression of the epipolar constraint:\n",
    "\n",
    "```\n",
    "pᵀEp' = 0\n",
    "```\n",
    "\n",
    "The Essential Matrix is a 3x3 matrix with 5 degrees of freedom, having a rank of 2 and being singular.\n",
    "\n",
    "The Essential Matrix plays a vital role in computing the epipolar lines corresponding to `p` and `p'`. Specifically, `l' = Eᵀp` provides the epipolar line in the image plane of camera 2, while `l = Ep'` offers the epipolar line in the image plane of camera 1. Moreover, the Essential Matrix satisfies the property that its dot product with the epipoles equals zero: `Eᵀe = Ee' = 0`. This property arises because, for any point `x` (excluding the epipole `e`) in the image of camera 1, the corresponding epipolar line in the image of camera 2, denoted as `l' = Eᵀx`, contains the epipole `e'`. Thus, `e'` satisfies `e'ᵀ(Eᵀx) = (e'ᵀEᵀ)x = 0` for all `x`, resulting in `Ee' = 0`. Similarly, `Eᵀe = 0`.\n",
    "\n",
    "The Essential Matrix serves as a foundational component in epipolar geometry, enabling the derivation of epipolar constraints and facilitating the understanding of correspondences between points and epipolar lines across two cameras. Its compact representation encapsulates essential geometric relationships in multiple view geometry."
   ]
  },
  {
   "cell_type": "markdown",
   "metadata": {},
   "source": [
    "### References\n",
    "Figures 1, 2, 3: Standford CS231A notes on epipolar geometry"
   ]
  }
 ],
 "metadata": {
  "language_info": {
   "name": "python"
  },
  "orig_nbformat": 4
 },
 "nbformat": 4,
 "nbformat_minor": 2
}
