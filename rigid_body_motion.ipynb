{
 "cells": [
  {
   "cell_type": "markdown",
   "metadata": {},
   "source": [
    "# Representation of configuration, velocity, and forces  \n",
    "Note that:\n",
    "- We will use implicit representations of configurations, considering that the C-space is a manifold embedded in a higher-dimensional space. In other words, our representation of a configuration will not use minimum set of coordinates and the velocity will not be represented by a vector in the tangent space.\n",
    "- Rigid bodies configurations are represented using frames. A frame consist of an origin and a set of three orthogonal x, y, and z axes. All frames are right-handed, which means that the cross product of the x and y axes is the z axis. It can be created using your right hand, where the thumb points in the direction of the z axis, the index finger in the direction of the x axis, and the middle finger in the direction of the y axis.\n",
    "\n",
    "<div style=\"text-align:center\"> <img src=\"images\\Cartesian-axes-right-hand-rule.svg\" width=\"400\"/> <br/> source <a href=\"https://commons.wikimedia.org/wiki/File%253ACartesian-axes-right-hand-rule.svg\">Wikimedia</a> </div>\n",
    "\n",
    "- If we want to represent the position and orientation of a rigid body, we can use a frame attached to the body and attach another frame to the world. The configuration of the body is given by the position of the origin of the body frame with respect to the origin of the world frame and the orientation of the body frame with respect to the world frame. \n",
    "\n",
    "- Positive rotations about an axis is defined by the right-hand rule. If you point your right thumb in the direction of the axis, the curl of your fingers will indicate the direction of the positive rotation.\n",
    "\n",
    "<div style=\"text-align:center\"> <img src=\"images\\Right-hand_grip_rule.svg\" width=\"400\"/> <br/> source <a href=\"https://commons.wikimedia.org/wiki/File%253ARight-hand_grip_rule.svg\">Wikimedia</a> </div>\n",
    "\n"
   ]
  },
  {
   "cell_type": "markdown",
   "metadata": {},
   "source": [
    "## Rotation Matrices"
   ]
  },
  {
   "cell_type": "markdown",
   "metadata": {},
   "source": [
    "### Orientation of a Rigid Body\n",
    "\n",
    "When studying the orientation of a rigid body, we compare two frames, the \"space frame\" ({s}) and the \"body frame\" ({b}). We're mainly interested in how the body frame is rotated compared to the space frame."
   ]
  },
  {
   "cell_type": "markdown",
   "metadata": {},
   "source": [
    "### Rotation Matrix\n",
    "\n",
    "To represent the orientation of the body frame relative to the space frame, we use a special table called a \"rotation matrix.\" This matrix contains 9 numbers that describe how the body frame's x, y, and z-coordinate axes are aligned in the space frame.\n",
    "\n",
    "Here how it looks like:\n",
    "\n",
    "$$\n",
    "R_{sb} =\n",
    "\\begin{bmatrix} \n",
    "    \\hat{x}_b \\ \\hat{y}_b \\ \\hat{z}_b\n",
    "\\end{bmatrix} =\n",
    "\\begin{bmatrix}\n",
    "    \\hat{x}_s \\cdot \\hat{x}_b & \\hat{y}_s \\cdot \\hat{x}_b & \\hat{z}_s \\cdot \\hat{x}_b \\\\\n",
    "    \\hat{x}_s \\cdot \\hat{y}_b & \\hat{y}_s \\cdot \\hat{y}_b & \\hat{z}_s \\cdot \\hat{y}_b \\\\\n",
    "    \\hat{x}_s \\cdot \\hat{z}_b & \\hat{y}_s \\cdot \\hat{z}_b & \\hat{z}_s \\cdot \\hat{z}_b\n",
    "\\end{bmatrix} \n",
    "$$\n",
    "\n",
    "$R_{sb}$ indicates the rotation matrix from the body frame to the space frame. Sometimes the two subscripts are implicit, and we just write $R$.\n",
    "\n"
   ]
  },
  {
   "cell_type": "markdown",
   "metadata": {},
   "source": [
    "### Constraints\n",
    "\n",
    "The 9 numbers in the rotation matrix must follow specific rules or \"constraints\" to make sense. Since we know that the space of orientation is three-dimensional, we expect that there are 6 constraints.\n",
    "These constraints are:\n",
    "\n",
    "    - The three column vectors in the matrix (representing the x, y, and z-axes of the body frame) must be \"unit vectors,\" with a length of 1.\n",
    "    - The dot product of any two of the column vectors must be zero, meaning the three vectors are perpendicular (orthogonal) to each other.\n",
    "\n",
    "These 6 constrains can be written compactly as:\n",
    "\n",
    "$$\n",
    "R^T R = I, I =\n",
    "\\begin{bmatrix}\n",
    "    1 & 0 & 0 \\\\\n",
    "    0 & 1 & 0 \\\\\n",
    "    0 & 0 & 1\n",
    "\\end{bmatrix}\n",
    "$$\n",
    "\n",
    "where $I$ is the identity matrix.\n",
    "\n",
    "These constrains ensure that determinant of $R$ is either 1, corresponding to a \"right-handed\" rotation, or -1, corresponding to a \"left-handed\" rotation. We're only interested in right-handed rotations in this notebook, so we'll only consider rotation matrices with a determinant of 1."
   ]
  },
  {
   "cell_type": "markdown",
   "metadata": {},
   "source": [
    "### Special Orthogonal Group (SO(3))\n",
    "\n",
    "All the valid rotation matrices satisfying the constraints form a special group known as the \"special orthogonal group\" or SO(3). It includes all possible ways to rotate the body frame with respect to the space frame while maintaining the constraints.\n",
    "\n",
    "$$\n",
    "SO(3) = \\{ R \\in \\mathbb{R}^{3 \\times 3} \\mid R^T R = I, \\det(R) = 1 \\}\n",
    "$$"
   ]
  },
  {
   "cell_type": "markdown",
   "metadata": {},
   "source": [
    "### Properties of Rotation Matrices\n",
    "\n",
    "Rotation matrices have interesting properties:\n",
    "\n",
    "- The inverse of a rotation matrix is its transpose, which means to undo a rotation, we use the transpose of the original matrix.\n",
    "Inverse: $R^{-1} = R^T \\in  SO(3)$\n",
    "- Combining two rotation matrices (matrix multiplication) gives another rotation matrix, enabling us to represent complex rotations using simpler ones.  \n",
    "Closure: $R_1, R_2 \\in SO(3) \\Rightarrow R_1 R_2 \\in SO(3)$\n",
    "- The order of multiplication matters; rotation matrices, in general, do not commute (A * B is not always the same as B * A).  \n",
    "Associativity: $R_1, R_2, R_3 \\in SO(3) \\Rightarrow R_1 (R_2 R_3) = (R_1 R_2) R_3$\n",
    "Not Commutative: $R_1, R_2 \\in SO(3) \\Rightarrow R_1 R_2 \\neq R_2 R_1$\n",
    "- When we use a rotation matrix to rotate a vector (a point in space), the vector's length remains unchanged. Only its direction changes, not its distance from the origin.  \n",
    "$ x \\in \\mathbb{R}^3, R \\in SO(3) \\Rightarrow \\| R x \\| = \\| x \\|$"
   ]
  },
  {
   "cell_type": "markdown",
   "metadata": {},
   "source": [
    "### Uses of Rotation Matrices\n",
    "The rotation matrix is a very useful tool for representing and manipulating orientations of rigid bodies in 3D space. Here are some of its uses:\n",
    "\n",
    "    - Representing an orientation.\n",
    "    - Changing the frame of reference of a vector or frame.\n",
    "    - Rotating a vector or frame."
   ]
  },
  {
   "cell_type": "markdown",
   "metadata": {},
   "source": [
    "### Representation of Orientation\n",
    "\n",
    "We start by considering coordinate frames {s}, {b}, and {c}, representing the same space but with different orientations.\n",
    "#### Visualizing Frames in 3D\n",
    "\n",
    "To help visualize these frames in 3 dimensions, we'll use a handy tinkertoy frame. The axes are labeled as follows:\n",
    "\n",
    "    z-axis\n",
    "    x-axis\n",
    "    y-axis\n",
    "\n",
    "#### Frame Orientations\n",
    "Initially, the frame is aligned with {s}, and after successive rotations, we obtain the frames {b} and {c}.\n"
   ]
  },
  {
   "cell_type": "markdown",
   "metadata": {},
   "source": [
    "### Rotation Matrices for Frame Orientation\n",
    "\n",
    "To represent {c} relative to {s}, we use the coordinate axes of {c} in {s} coordinates, yielding the rotation matrix R_sc.\n",
    "\n",
    "The rotation matrix R_cs, representing the orientation of frame {s} in {c} coordinates, is the transpose (or inverse) of R_sc.\n"
   ]
  },
  {
   "cell_type": "markdown",
   "metadata": {},
   "source": [
    "### Changing the Frame of Reference of a Vector or Frame\n",
    "\n",
    "To demonstrate changing the reference frame, consider the rotation matrix R_bc, representing the orientation of frame {c} in frame {b} coordinates.\n",
    "\n",
    "We can express the {c} frame in {s} coordinates instead of {b} coordinates by performing the matrix multiplication R_sc = R_sb * R_bc.\n",
    "\n",
    "Remember the subscript cancellation rule: If the second subscript of the first matrix matches the first subscript of the second matrix, they cancel each other, leaving the two remaining subscripts in the right order."
   ]
  },
  {
   "cell_type": "markdown",
   "metadata": {},
   "source": [
    "### Rotating a Vector or Frame\n",
    "\n",
    "A rotation matrix can also be used to rotate a vector or frame.\n",
    "#### Rotating a Vector\n",
    "\n",
    "For example, if p_b is the position of point p expressed in {b} frame coordinates, we can rotate p_b to {s} coordinates by premultiplying p_b by R_sb to get p_s. This operation again satisfies a subscript cancellation rule.\n",
    "#### Rotating a Frame\n",
    "\n",
    "When a vector is p_s in {s} coordinates, there is no subscript cancellation. Instead, we get a new vector p-prime-s, obtained by rotating p_s by 90 degrees about the z_s axis.\n",
    "\n",
    "The vector has been rotated, but it is still represented in the original frame {s}."
   ]
  },
  {
   "cell_type": "markdown",
   "metadata": {},
   "source": [
    "### Premultiplication and Postmultiplication\n",
    "\n",
    "We can rotate frame {c} by premultiplying or postmultiplying R_sc by the rotation operator R. If you premultiply by R, the rotation axis is interpreted as the z-axis of the frame of the first subscript, {s}. You end up with a rotated frame {c-prime}, still expressed in {s}. If you postmultiply by R, the rotation axis is interpreted as the z-axis of the frame of the second subscript, {c}. You end up with a different rotated frame {c-double-prime}, still expressed in {s}."
   ]
  },
  {
   "cell_type": "markdown",
   "metadata": {},
   "source": []
  }
 ],
 "metadata": {
  "language_info": {
   "name": "python"
  },
  "orig_nbformat": 4
 },
 "nbformat": 4,
 "nbformat_minor": 2
}
