{
 "cells": [
  {
   "cell_type": "markdown",
   "metadata": {},
   "source": [
    "# Inverse Kinematics\n",
    "Inverse kinematics is a problem in robotics where we want to find the joint positions (theta) of a robot given a desired end-effector configuration (position and orientation). In other words, we want to determine how to position the robot's joints so that its end-effector (such as the robot's hand) reaches a specific point in space with a certain orientation.\n",
    "\n",
    "$$\n",
    "\\begin{split}\n",
    "\\text{Forward Kinematics:   Given } \\theta \\text{, find } x \\in SE(3) \\\\\n",
    "\\text{Inverse Kinematics:   Given } x \\text{, find } \\theta \\text{ s.t. } T(\\theta) = x\n",
    "$$\n",
    "\n",
    "### Challenges in Inverse Kinematics:\n",
    "Unlike forward kinematics, which has a unique solution for a given set of joint values, the inverse kinematics problem can have multiple solutions or even no solutions at all. This is because there may be several ways to reach the desired end-effector position, and some configurations may be physically impossible for the robot to achieve.\n",
    "\n",
    "\n",
    "### Approaches to Solving Inverse Kinematics:\n",
    "\n",
    "1. Analytic Solutions:\n",
    "In some cases, we can find closed-form solutions to the inverse kinematics problem using mathematical equations. These analytic solutions take advantage of geometric insights into the robot's structure. They are efficient and provide a direct formula to compute the joint angles. However, they may not exist for all robot configurations and can be complex to derive for more complex robots.\n",
    "2. Numerical Solutions:\n",
    "When analytic solutions are not feasible, we turn to numerical methods. Numerical inverse kinematics uses iterative techniques to find an approximate solution. It starts with an initial guess for the joint positions and iteratively adjusts them until the end-effector configuration converges to the desired one. Numerical methods are more versatile and can handle a wide range of robot configurations, but they may not find all possible solutions and require an initial guess.\n",
    "\n",
    "### Planar 2R Robot Example:\n",
    "To illustrate the analytic solution, a planar 2R robot is used as an example. This robot has two revolute joints and operates in a 2D plane. Given a desired end-effector position (x, y), the goal is to find the joint angles theta_1 and theta_2 that achieve this position.\n",
    "\n",
    "$$\n",
    "\\begin{split}\n",
    "\\text{two-argument arctangent: } atan2(y, x) \\in (-\\pi, \\pi] \\\\\n",
    "\\text{law of cosines: } c^2 = a^2 + b^2 - 2ab cos(\\theta)\n",
    "\\end{split}\n",
    "$$\n",
    "\n",
    "The solution involves using the atan2 function to determine the angle of a vector from the origin to the point relative to the x-axis. Additionally, the law of cosines is used to relate the sides and angles of a triangle formed by the robot's links.\n",
    "\n",
    "Based on the requested tip position:\n",
    "\n",
    "- If the point is outside the robot's reachable workspace, there are no solutions.\n",
    "- If the point is on the boundary of the workspace, there is one solution for theta_2 (either pi or 0).\n",
    "- If the point is inside the workspace, there are two solutions for theta_2, which can be calculated using atan2 and the law of cosines.\n",
    "\n",
    "$$\n",
    "\\begin{split}\n",
    "\\text{soultion 1: } \\theta_1 = \\gamma - \\alpha, \\theta_2 = \\pi - \\beta \\\\\n",
    "\\text{soultion 2: } \\theta_1 = \\gamma + \\alpha, \\theta_2 = \\pi + \\beta\n",
    "\\end{split}\n",
    "$$\n",
    "\n",
    "### Implications of Numerical Solutions:\n",
    "While analytic solutions are straightforward and elegant when available, numerical methods are more widely applicable, especially for complex robots. They require an initial guess and converge to a single solution. However, they may not find all possible solutions and are not as efficient as analytic methods for robots with straightforward solutions.\n",
    "\n",
    "Overall, inverse kinematics is an essential topic in robotics, as it enables us to control the robot's end-effector position and orientation, allowing it to interact with its environment effectively. Analytic and numerical approaches both have their strengths and limitations, and the choice of method depends on the specific robot and its kinematics."
   ]
  },
  {
   "cell_type": "markdown",
   "metadata": {},
   "source": []
  }
 ],
 "metadata": {
  "language_info": {
   "name": "python"
  },
  "orig_nbformat": 4
 },
 "nbformat": 4,
 "nbformat_minor": 2
}
